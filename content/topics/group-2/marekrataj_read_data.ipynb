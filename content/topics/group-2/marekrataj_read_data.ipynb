{
 "cells": [
  {
   "cell_type": "code",
   "execution_count": 6,
   "metadata": {},
   "outputs": [],
   "source": [
    "import pyaerocom as pya\n",
    "def read_modeldata_pyaerocom(MODEL_ID, VAR, REG):\n",
    "    pya.const.BASEDIR = '/home/notebook/shared-ns1000k/inputs/pyaerocom-testdata/'\n",
    "    reader = pya.io.ReadGridded(MODEL_ID)\n",
    "    VAR = reader.read_var(VAR, start=2010, ts_type='monthly')\n",
    "    if REG=='ARCTIC':\n",
    "        VAR = VAR.crop(lat_range=(70,90))\n",
    "    df = VAR.crop(lat_range=(70,90)).to_xarray().to_dataframe()\n",
    "    return df"
   ]
  },
  {
   "cell_type": "code",
   "execution_count": 15,
   "metadata": {},
   "outputs": [
    {
     "name": "stderr",
     "output_type": "stream",
     "text": [
      "Initiating directories for pyaerocom test dataset\n",
      "Initiating directories for pyaerocom test dataset\n",
      "Initiating directories for pyaerocom test dataset\n",
      "Initiating directories for pyaerocom test dataset\n",
      "Initiating directories for pyaerocom test dataset\n",
      "Initiating directories for pyaerocom test dataset\n",
      "Initiating directories for pyaerocom test dataset\n",
      "Initiating directories for pyaerocom test dataset\n"
     ]
    }
   ],
   "source": [
    "MODEL_ID = 'ECHAM6.3-HAM2.3-met2010_AP3-CTRL'\n",
    "VAR = [['od550bc','od550so4','od550du','od550ss'],['loadbc','loadso4','loaddu','loadss']]\n",
    "REG = 'ARCTIC'\n",
    "VAR_MEAN = [[],[]]\n",
    "for i in range(len(VAR)):\n",
    "    for j in range(len(VAR[i])):\n",
    "        df = read_modeldata_pyaerocom(MODEL_ID, VAR[i][j], REG)\n",
    "        vm = df[VAR[i][j]].mean()\n",
    "        VAR_MEAN[i].append(vm)\n"
   ]
  },
  {
   "cell_type": "code",
   "execution_count": 19,
   "metadata": {},
   "outputs": [],
   "source": [
    "MEC_MEAN = []\n",
    "for i in range(len(VAR[0])):\n",
    "    MEC_MEAN.append(VAR_MEAN[0][i]/VAR_MEAN[1][i])"
   ]
  },
  {
   "cell_type": "code",
   "execution_count": 20,
   "metadata": {},
   "outputs": [
    {
     "data": {
      "text/plain": [
       "[2542.0735, 2460.1375, 804.41504, 385.80026]"
      ]
     },
     "execution_count": 20,
     "metadata": {},
     "output_type": "execute_result"
    }
   ],
   "source": [
    "MEC_MEAN"
   ]
  },
  {
   "cell_type": "code",
   "execution_count": null,
   "metadata": {},
   "outputs": [],
   "source": []
  }
 ],
 "metadata": {
  "kernelspec": {
   "display_name": "Python 3",
   "language": "python",
   "name": "python3"
  },
  "language_info": {
   "codemirror_mode": {
    "name": "ipython",
    "version": 3
   },
   "file_extension": ".py",
   "mimetype": "text/x-python",
   "name": "python",
   "nbconvert_exporter": "python",
   "pygments_lexer": "ipython3",
   "version": "3.7.3"
  }
 },
 "nbformat": 4,
 "nbformat_minor": 4
}
