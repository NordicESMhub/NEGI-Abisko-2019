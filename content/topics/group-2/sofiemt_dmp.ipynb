{
 "cells": [
  {
   "cell_type": "markdown",
   "metadata": {},
   "source": [
    "## Relationships between sea salt and surface wind speed in the Svalbard region \n"
   ]
  },
  {
   "cell_type": "markdown",
   "metadata": {},
   "source": [
    "1) Investigate relationships between aerosol properties and surface wind speed.  \n",
    "\n",
    "2) Investigate vertical distributions of sea-salt particles by comparing in-situ measurements at the Zeppelin station with satellite derived AOT and sea-salt AOT from GCM simulations.  \n",
    "\n",
    "Data: Na and Cl aerosols from EBAS, AOT from MERRA2 (Giovanni) sea-salt component of AOT from NorESM CAM6-Oslo \n"
   ]
  },
  {
   "cell_type": "code",
   "execution_count": null,
   "metadata": {},
   "outputs": [],
   "source": []
  }
 ],
 "metadata": {
  "kernelspec": {
   "display_name": "Python 3",
   "language": "python",
   "name": "python3"
  },
  "language_info": {
   "codemirror_mode": {
    "name": "ipython",
    "version": 3
   },
   "file_extension": ".py",
   "mimetype": "text/x-python",
   "name": "python",
   "nbconvert_exporter": "python",
   "pygments_lexer": "ipython3",
   "version": "3.7.3"
  }
 },
 "nbformat": 4,
 "nbformat_minor": 4
}
