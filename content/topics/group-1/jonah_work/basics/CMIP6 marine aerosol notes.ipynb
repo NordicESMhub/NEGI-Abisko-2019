{
 "cells": [
  {
   "cell_type": "markdown",
   "metadata": {},
   "source": [
    "# Model Intercomparison for Marine Organic Aerosol Production"
   ]
  },
  {
   "cell_type": "markdown",
   "metadata": {},
   "source": [
    "## CMIP6 Models with Marine Organic Aerosol variable (mmroa)\n",
    "### \"Dear all, can you help me understand “your\" natural marine aerosol component? We are looking into the historical model version and I am specifically interested if your CMIP6 model version has a:\n",
    "- marine primary organic aerosol emission source?\n",
    "- DMS emissions and MSA appear as part of the diagnosed mmr of organic aerosol? \""
   ]
  },
  {
   "cell_type": "markdown",
   "metadata": {},
   "source": [
    "CESM2-WACCM:\n",
    "\n",
    "(From Andrew) We have a DMS climatology and sea-salt dependent on wind speed. Louisa and Simone may know if there are additional marine primary organic aerosol emissions. \n",
    "\n",
    "(From Louisa) CESM2 does not have a direct marine primary organic aerosol emission source.\n",
    "The organic aerosol mmr does not have any ocean contribution - DMS is oxidized to SO2 only; we do not have MSA in the model.\n",
    "\n",
    "BCC-ESM1: CNRM-ESM2-1 we don't have any marine primary organic aerosol emission.\n",
    "DMS emissions are taken into account directly in SO2 emissions, there is no MSA contribution.\n",
    "\n",
    "NorESM2-LM: ???\n",
    "\n",
    "GFDL-CM4: Yes there is primary organic emission from ocean. DMS and MSA are not part of organic aerosols\n",
    "\n",
    "GFDL-ESM4: Yes there is primary organic emission from ocean. DMS and MSA are not part of organic aerosols\n",
    "\n",
    "MIROC-ESL2: Marine primary organic aerosol emission source is included in MIROC-ES2L referring to Gantt et al. (2011, doi:10.5194/acp-11-8777-2011).\n",
    "Marine isoprene and mono-terpene are calculated referring to Gantt et al. (2019, doi:10.5194/acp-9-4915-2009)."
   ]
  },
  {
   "cell_type": "markdown",
   "metadata": {},
   "source": [
    "## Takeaway: DMS emissions are often converted directly to SO2 and are not included in the mmroa variable"
   ]
  },
  {
   "cell_type": "markdown",
   "metadata": {},
   "source": [
    "What are the differences between these models? What valid comparisons could I draw? How does NorESM handle DMS emissions? Are they included in mmroa or do they go directly to SO2."
   ]
  },
  {
   "cell_type": "markdown",
   "metadata": {},
   "source": [
    "What aspects of the observational aerosol data do I want to work with?"
   ]
  },
  {
   "cell_type": "markdown",
   "metadata": {},
   "source": [
    "Distinguishing between models with marine organic carbon emissions?"
   ]
  },
  {
   "cell_type": "markdown",
   "metadata": {},
   "source": [
    "How do these models differ globally (using historical runs)?\n",
    "How do they differ in remote marine environments where we also have observational data?"
   ]
  },
  {
   "cell_type": "code",
   "execution_count": null,
   "metadata": {},
   "outputs": [],
   "source": []
  }
 ],
 "metadata": {
  "kernelspec": {
   "display_name": "Python 3",
   "language": "python",
   "name": "python3"
  },
  "language_info": {
   "codemirror_mode": {
    "name": "ipython",
    "version": 3
   },
   "file_extension": ".py",
   "mimetype": "text/x-python",
   "name": "python",
   "nbconvert_exporter": "python",
   "pygments_lexer": "ipython3",
   "version": "3.7.3"
  }
 },
 "nbformat": 4,
 "nbformat_minor": 4
}
