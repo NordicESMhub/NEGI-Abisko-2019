{
 "cells": [
  {
   "cell_type": "markdown",
   "metadata": {},
   "source": [
    "# This is my trash for the project. \n",
    "I will move cells here when the notebook works without them, but I don't want to potentially delete anything useful."
   ]
  },
  {
   "cell_type": "markdown",
   "metadata": {},
   "source": [
    "## Delete zone: (wahoooo!!)"
   ]
  },
  {
   "cell_type": "markdown",
   "metadata": {},
   "source": [
    "model aerosol trends"
   ]
  },
  {
   "cell_type": "code",
   "execution_count": 6,
   "metadata": {},
   "outputs": [
    {
     "name": "stderr",
     "output_type": "stream",
     "text": [
      "/opt/conda/lib/python3.7/site-packages/xarray/conventions.py:494: SerializationWarning: variable 'mmrso4' has multiple fill values {1e+20, 1e+20}, decoding all values to NaN.\n",
      "  use_cftime=use_cftime,\n"
     ]
    },
    {
     "name": "stdout",
     "output_type": "stream",
     "text": [
      "Processing...\n",
      "mmrso4\n"
     ]
    },
    {
     "name": "stderr",
     "output_type": "stream",
     "text": [
      "/opt/conda/lib/python3.7/site-packages/xarray/conventions.py:494: SerializationWarning: variable 'mmrss' has multiple fill values {1e+20, 1e+20}, decoding all values to NaN.\n",
      "  use_cftime=use_cftime,\n"
     ]
    },
    {
     "name": "stdout",
     "output_type": "stream",
     "text": [
      "mmrss\n",
      "mmrsoa\n"
     ]
    },
    {
     "name": "stderr",
     "output_type": "stream",
     "text": [
      "/opt/conda/lib/python3.7/site-packages/xarray/conventions.py:494: SerializationWarning: variable 'mmroa' has multiple fill values {1e+20, 1e+20}, decoding all values to NaN.\n",
      "  use_cftime=use_cftime,\n"
     ]
    },
    {
     "name": "stdout",
     "output_type": "stream",
     "text": [
      "mmroa\n"
     ]
    }
   ],
   "source": [
    "first_month = 150 * 12\n",
    "vals = data_paths.keys()\n",
    "all_cesm = xr.Dataset()\n",
    "print('Processing...')\n",
    "for i in vals: # for each GCM variable of interest\n",
    "    temp_data = xr.open_dataset(data_paths[i][0])  # open the dataset\n",
    "    _ll = temp_data.isel(lev=69) # Selection the lowest level. nice\n",
    "    _ti = lowest_level.sel(time=slice(start_date, end_date)) # Select the time range\n",
    "    surface_val = temp_data[i].isel(lev=69, time=slice(first_month,first_month + 120)) # select the data at the surface from 1860-1880\n",
    "    monthly = surface_val.groupby('time.month').mean() # Create monthly averages, slow step\n",
    "    data_paths[i].append(monthly) # this could go\n",
    "    all_cesm[i] = monthly\n",
    "    print(i)"
   ]
  },
  {
   "cell_type": "code",
   "execution_count": 4,
   "metadata": {},
   "outputs": [
    {
     "name": "stderr",
     "output_type": "stream",
     "text": [
      "/opt/conda/lib/python3.7/site-packages/xarray/conventions.py:494: SerializationWarning: variable 'mmrsoa' has multiple fill values {1e+20, 1e+20}, decoding all values to NaN.\n",
      "  use_cftime=use_cftime,\n"
     ]
    }
   ],
   "source": [
    "first_month = 150 * 12\n",
    "temp_data = xr.open_dataset(data_paths['mmrsoa'][0])  # open the dataset\n",
    "first_decade = temp_data.isel(lev=69, time=slice(first_month,first_month + 120))\n",
    "#first_decade"
   ]
  },
  {
   "cell_type": "code",
   "execution_count": 8,
   "metadata": {},
   "outputs": [],
   "source": [
    "# Dictionary with the coords of relevant observatories\n",
    "obs_dict = {'Zeppelin': [78.907206, 11.885593], \n",
    "            'ALERT':[82.450825, -62.507651], \n",
    "            'Nord':[81.613342, -16.652660], \n",
    "            'Tiksi':[71.6, 128.9], \n",
    "            'Barrow':[71.300659, -156.719390]}"
   ]
  },
  {
   "cell_type": "code",
   "execution_count": 4,
   "metadata": {},
   "outputs": [
    {
     "name": "stderr",
     "output_type": "stream",
     "text": [
      "/opt/conda/lib/python3.7/site-packages/xarray/conventions.py:494: SerializationWarning: variable 'mmrsoa' has multiple fill values {1e+20, 1e+20}, decoding all values to NaN.\n",
      "  use_cftime=use_cftime,\n"
     ]
    }
   ],
   "source": [
    "temp_data = xr.open_dataset(data_paths['mmrsoa'][0])  # open the dataset\n",
    "lowest_level = temp_data.isel(lev=69) # Selection the lowest level. nice\n",
    "decade = lowest_level.sel(time=slice(start_date, end_date)) # Select the time range"
   ]
  },
  {
   "cell_type": "code",
   "execution_count": null,
   "metadata": {},
   "outputs": [],
   "source": [
    "xr_ds.to_dataframe()#.squeeze()"
   ]
  },
  {
   "cell_type": "code",
   "execution_count": null,
   "metadata": {},
   "outputs": [],
   "source": [
    "fig, ax = plt.subplots(nrows=2, ncols=3, figsize=(15,10));\n",
    "for vals in data_paths.keys(): # for each GCM variable of interest\n",
    "    print(vals)\n",
    "    temp_var_20y = data_paths[vals][1][120:360] # Select the 20-year period from 1860 to 1890\n",
    "    temp_var_20y.groupby('time.month').mean() # Create monthly averages, this is the slow step\n",
    "\n",
    "    for i,obs in enumerate(obs_dict.keys()):\n",
    "        col = (i) // 2; row = (i) % 2;\n",
    "        temp_coords = obs_dict[obs]\n",
    "        temp_loc = temp_var_20y.sel(lat=temp_coords[0], lon=temp_coords[1], method='nearest') \n",
    "        temp_loc.plot(ax = ax[row, col])\n",
    "        \n",
    "    for vals in data_paths.keys(): # for each GCM variable of interest\n",
    "        print(vals)\n",
    "        temp_var_20y = data_paths[vals][1][120:360] # Select the 20-year period from 1860 to 1890\n",
    "        temp_var_20y.groupby('time.month').mean() # Create monthly averages\n",
    "    #print(temp_coords, obs)\n",
    "        # Select monthly data at an observatory\n",
    "        temp_loc = temp_var_20y.sel(lat=temp_coords[0], lon=temp_coords[1], method='nearest') \n",
    "        # Select monthly data at an observatory\n",
    "        temp_loc.plot(ax = ax[row, col])\n",
    "    ax[row, col].set(xlabel=\"Month\", title = obs)#, ylabel=\"Concentration [cm-3]\");\n",
    "    #    temp_loc.plot(ax = ax[row, col], title = obs, legend = False);\n"
   ]
  },
  {
   "cell_type": "code",
   "execution_count": 6,
   "metadata": {},
   "outputs": [
    {
     "name": "stdout",
     "output_type": "stream",
     "text": [
      "Processing...\n"
     ]
    },
    {
     "name": "stderr",
     "output_type": "stream",
     "text": [
      "/opt/conda/lib/python3.7/site-packages/xarray/conventions.py:494: SerializationWarning: variable 'mmrso4' has multiple fill values {1e+20, 1e+20}, decoding all values to NaN.\n",
      "  use_cftime=use_cftime,\n"
     ]
    },
    {
     "name": "stdout",
     "output_type": "stream",
     "text": [
      "mmrso4\n"
     ]
    },
    {
     "name": "stderr",
     "output_type": "stream",
     "text": [
      "/opt/conda/lib/python3.7/site-packages/xarray/conventions.py:494: SerializationWarning: variable 'mmrss' has multiple fill values {1e+20, 1e+20}, decoding all values to NaN.\n",
      "  use_cftime=use_cftime,\n"
     ]
    },
    {
     "name": "stdout",
     "output_type": "stream",
     "text": [
      "mmrss\n"
     ]
    },
    {
     "name": "stderr",
     "output_type": "stream",
     "text": [
      "/opt/conda/lib/python3.7/site-packages/xarray/conventions.py:494: SerializationWarning: variable 'mmrsoa' has multiple fill values {1e+20, 1e+20}, decoding all values to NaN.\n",
      "  use_cftime=use_cftime,\n"
     ]
    },
    {
     "name": "stdout",
     "output_type": "stream",
     "text": [
      "mmrsoa\n"
     ]
    },
    {
     "name": "stderr",
     "output_type": "stream",
     "text": [
      "/opt/conda/lib/python3.7/site-packages/xarray/conventions.py:494: SerializationWarning: variable 'mmroa' has multiple fill values {1e+20, 1e+20}, decoding all values to NaN.\n",
      "  use_cftime=use_cftime,\n"
     ]
    },
    {
     "name": "stdout",
     "output_type": "stream",
     "text": [
      "mmroa\n"
     ]
    }
   ],
   "source": [
    "vals = data_paths_cesm.keys()\n",
    "all_cesm = xr.Dataset()\n",
    "print('Processing...')\n",
    "for i in vals: # for each GCM variable of interest\n",
    "    temp_data = xr.open_dataset(data_paths_cesm[i])  # open the dataset\n",
    "    _ll = temp_data[i].isel(lev=69) # Selection the lowest level. nice\n",
    "    _ti = _ll.sel(time=slice(start_date, end_date)) # Select the time range\n",
    "    _ma = _ti.groupby('time.month').mean() # Create monthly averages, slow step\n",
    "  #  data_paths_cesm[i].append(_ma) # this could go\n",
    "    all_cesm[i] = _ma\n",
    "    print(i)\n",
    "    "
   ]
  },
  {
   "cell_type": "code",
   "execution_count": 17,
   "metadata": {},
   "outputs": [
    {
     "name": "stdout",
     "output_type": "stream",
     "text": [
      "Processing...\n",
      "mmrso4\n",
      "mmrss\n",
      "mmrsoa\n",
      "mmroa\n"
     ]
    }
   ],
   "source": [
    "vals = data_paths_noresm.keys()\n",
    "all_noresm = xr.Dataset()\n",
    "print('Processing...')\n",
    "for i in vals: # for each GCM variable of interest\n",
    "    temp_data = xr.open_dataset(data_paths_noresm[i])  # open the dataset\n",
    "    _ll = temp_data[i].isel(lev=0) # Select the lowest level\n",
    "    _ti = _ll.sel(time=slice(start_date, end_date)) # Select the time range\n",
    "    _ma = _ti.groupby('time.month').mean() # Create monthly averages, slow step\n",
    "    all_noresm[i] = _ma\n",
    "    print(i)"
   ]
  },
  {
   "cell_type": "code",
   "execution_count": 9,
   "metadata": {},
   "outputs": [],
   "source": [
    "df2 = pd.DataFrame()\n",
    "for obs in obs_dict: #\n",
    "    _xr_ds = xr.Dataset()\n",
    "    temp_coords = obs_dict[obs] # Get the coordinates\n",
    "    for vals in all_noresm:\n",
    "        _da = all_noresm[vals]        \n",
    "        _da = _da.sel(lat=temp_coords[0], lon=temp_coords[1], method='nearest')\n",
    "        _xr_ds[vals]=_da\n",
    "    _df = _xr_ds.to_dataframe()\n",
    "    _df['Station name']=obs # Create a new column with the station for all new vals\n",
    "    df2 = pd.concat([df2, _df], ) # Add\n",
    "\n",
    "df2= df2.reset_index()"
   ]
  },
  {
   "cell_type": "code",
   "execution_count": 8,
   "metadata": {},
   "outputs": [],
   "source": [
    "df = pd.DataFrame()  # Empty pandas DataFrame object\n",
    "for obs in obs_dict: # For each observatory\n",
    "    _xr_ds = xr.Dataset()  # Create empty xarray Dataset object\n",
    "    temp_coords = obs_dict[obs] # Get the coordinates\n",
    "    for vals in all_cesm:\n",
    "        _da = all_cesm[vals]\n",
    "        _da = _da.sel(lat=temp_coords[0], lon=temp_coords[1], method='nearest')\n",
    "        _xr_ds[vals]=_da\n",
    "    _df = _xr_ds.to_dataframe() # Convert to pandas object\n",
    "    _df['Station name']=obs # Set station name variable\n",
    "    df = pd.concat([df, _df], ) # Update the DataFrame\n",
    "\n",
    "df= df.reset_index()  "
   ]
  }
 ],
 "metadata": {
  "kernelspec": {
   "display_name": "Python 3",
   "language": "python",
   "name": "python3"
  },
  "language_info": {
   "codemirror_mode": {
    "name": "ipython",
    "version": 3
   },
   "file_extension": ".py",
   "mimetype": "text/x-python",
   "name": "python",
   "nbconvert_exporter": "python",
   "pygments_lexer": "ipython3",
   "version": "3.7.3"
  }
 },
 "nbformat": 4,
 "nbformat_minor": 4
}
