{
 "cells": [
  {
   "cell_type": "markdown",
   "metadata": {
    "slideshow": {
     "slide_type": "slide"
    }
   },
   "source": [
    "# How to generate slides from a Jupyter notebook\n"
   ]
  },
  {
   "cell_type": "markdown",
   "metadata": {
    "slideshow": {
     "slide_type": "slide"
    }
   },
   "source": [
    "# JupyterLab Cell tag editor"
   ]
  },
  {
   "cell_type": "markdown",
   "metadata": {
    "slideshow": {
     "slide_type": "fragment"
    }
   },
   "source": [
    "In order to export your notebooks as Reveal.js slides, follow these steps:\n",
    "\n",
    "- Open a notebook by double clicking it in the file browser.\n",
    "- Select Cell tools in the left sidebar.\n",
    "- Select the slide type (Slide, Subslide, Fragment, Skip, Notes)."
   ]
  },
  {
   "cell_type": "markdown",
   "metadata": {
    "slideshow": {
     "slide_type": "slide"
    }
   },
   "source": [
    "## Cell tag\n",
    "\n",
    "![](https://github.com/NordicESMhub/NEGI-Abisko-2019/raw/master/content/images/exporting_slide_type.png)"
   ]
  },
  {
   "cell_type": "markdown",
   "metadata": {
    "slideshow": {
     "slide_type": "slide"
    }
   },
   "source": [
    "# Type of slides\n",
    "\n",
    "- **Slide**: New slide\n",
    "- **Sub-Slides**: New section within a topic. Cells with this marker will be placed on a new slide underneath the previous slide.\n",
    "- **Fragments**:  Additional information that adds to an existing slide or sub-slide.\n",
    "- **-**: additional information that appears at the same time than the previous cell.\n",
    "- **Notes**: Speaker notes. These can be viewed on a separate browser window out of the view from the audience. (see the ‘Installation’ -> ‘Full Setup’ section of the REVEAL.js Github repo).\n",
    "- **Skip**: Cells that are set to skip do not appear in the presentation."
   ]
  },
  {
   "cell_type": "markdown",
   "metadata": {
    "slideshow": {
     "slide_type": "slide"
    }
   },
   "source": [
    "# Generate your presentation"
   ]
  },
  {
   "cell_type": "markdown",
   "metadata": {
    "slideshow": {
     "slide_type": "fragment"
    }
   },
   "source": [
    "### Exporting Notebooks\n",
    "\n",
    "JupyterLab allows you to export your jupyter notebook files (.ipynb) into other file formats. For creating slides, we can use:\n",
    "\n",
    "- Reveal.js Slides .html\n"
   ]
  },
  {
   "cell_type": "markdown",
   "metadata": {
    "slideshow": {
     "slide_type": "subslide"
    }
   },
   "source": [
    "To access these options, while a notebook is open, browse the File menu:\n",
    "\n",
    "![](https://github.com/NordicESMhub/NEGI-Abisko-2019/raw/master/content/images/export_slides.png)"
   ]
  },
  {
   "cell_type": "markdown",
   "metadata": {
    "slideshow": {
     "slide_type": "slide"
    }
   },
   "source": [
    "# Customize your slides"
   ]
  },
  {
   "cell_type": "markdown",
   "metadata": {
    "slideshow": {
     "slide_type": "fragment"
    }
   },
   "source": [
    "## How to hide code to show cell output only?\n",
    "\n",
    "- In the cell tool, click on \"Advanced Tools\" to edit metadata\n",
    "- Paste the following in \"Cell Metadata\"\n",
    "\n",
    "```\n",
    "{\n",
    "    \"slideshow\": {\n",
    "        \"slide_type\": \"fragment\"\n",
    "    },\n",
    "    \"tags\": [\n",
    "        \"to_remove\"\n",
    "    ]\n",
    "}\n",
    "```"
   ]
  },
  {
   "cell_type": "markdown",
   "metadata": {
    "slideshow": {
     "slide_type": "slide"
    }
   },
   "source": [
    "### Advanced cell editor\n",
    "\n",
    "![](https://github.com/NordicESMhub/NEGI-Abisko-2019/raw/master/content/images/hide_input_cell.png)"
   ]
  },
  {
   "cell_type": "markdown",
   "metadata": {
    "slideshow": {
     "slide_type": "slide"
    }
   },
   "source": [
    "# Example Hide code and show outputs only"
   ]
  },
  {
   "cell_type": "code",
   "execution_count": 4,
   "metadata": {
    "ExecuteTime": {
     "end_time": "2019-10-19T09:32:54.381701Z",
     "start_time": "2019-10-19T09:32:53.719603Z"
    },
    "slideshow": {
     "slide_type": "fragment"
    },
    "tags": [
     "to_remove"
    ]
   },
   "outputs": [
    {
     "data": {
      "image/png": "[encoded data removed]",
      "text/plain": [
       "<Figure size 432x288 with 1 Axes>"
      ]
     },
     "metadata": {
      "needs_background": "light"
     },
     "output_type": "display_data"
    }
   ],
   "source": [
    "import numpy as np\n",
    "import matplotlib.pyplot as plt\n",
    "%matplotlib inline\n",
    "# Turn interactive mode on\n",
    "plt.ion()\n",
    "\n",
    "data = np.random.randn(2, 100)\n",
    "fig, ax = plt.subplots()\n",
    "ax.scatter(*data, c=data[1], s=100*np.abs(data[0]));"
   ]
  },
  {
   "cell_type": "markdown",
   "metadata": {},
   "source": [
    "**Figure: scatterplot with random data**"
   ]
  },
  {
   "cell_type": "markdown",
   "metadata": {
    "slideshow": {
     "slide_type": "slide"
    }
   },
   "source": [
    "# Generate your slides\n",
    "\n",
    "- Create a new cell and execute the command:\n"
   ]
  },
  {
   "cell_type": "code",
   "execution_count": 5,
   "metadata": {
    "slideshow": {
     "slide_type": "subslide"
    }
   },
   "outputs": [
    {
     "name": "stdout",
     "output_type": "stream",
     "text": [
      "[NbConvertApp] Converting notebook presentation.ipynb to slides\n",
      "[NbConvertApp] Writing 323700 bytes to presentation.slides.html\n"
     ]
    }
   ],
   "source": [
    "!jupyter nbconvert presentation.ipynb --to slides --no-prompt --TagRemovePreprocessor.remove_input_tags={\\\"to_remove\\\"} "
   ]
  },
  {
   "cell_type": "markdown",
   "metadata": {},
   "source": [
    "- A new file was created. Its name is the same as your jupyter notebook but its extension is `html`.\n",
    "- Double click on your file to show your presentation"
   ]
  },
  {
   "cell_type": "markdown",
   "metadata": {
    "slideshow": {
     "slide_type": "slide"
    }
   },
   "source": [
    "# Visualize in slideshow mode\n",
    "\n",
    "- Switch to standard jupyter notebook e.g. change `lab` to `tree` in the Jupyterhub address.\n",
    "\n",
    "For instance, if you adress is \n",
    "\n",
    "`https://abisko.uiogeo-apps.sigma2.no/user/df0bb829-8d2d-487e-9748-cf1b58c1ab4b/lab` \n",
    "\n",
    "then the corresponding standard jupyter noteboo view is \n",
    "\n",
    "`https://abisko.uiogeo-apps.sigma2.no/user/df0bb829-8d2d-487e-9748-cf1b58c1ab4b/tree`\n",
    "\n",
    "- Click on your html file to visualize. "
   ]
  },
  {
   "cell_type": "markdown",
   "metadata": {
    "slideshow": {
     "slide_type": "slide"
    }
   },
   "source": [
    "# Skip cells\n",
    "\n",
    "You can hide cells, for instance to hide the generation of your slides.\n",
    "\n",
    "- In the cell tool, select \"Skip\""
   ]
  },
  {
   "cell_type": "code",
   "execution_count": 6,
   "metadata": {
    "ExecuteTime": {
     "end_time": "2019-10-19T09:32:57.296729Z",
     "start_time": "2019-10-19T09:32:55.582397Z"
    },
    "slideshow": {
     "slide_type": "skip"
    }
   },
   "outputs": [
    {
     "name": "stdout",
     "output_type": "stream",
     "text": [
      "[NbConvertApp] Converting notebook presentation.ipynb to slides\n",
      "[NbConvertApp] Writing 323700 bytes to presentation.slides.html\n"
     ]
    }
   ],
   "source": [
    "!jupyter nbconvert presentation.ipynb --to slides --no-prompt --TagRemovePreprocessor.remove_input_tags={\\\"to_remove\\\"} "
   ]
  },
  {
   "cell_type": "markdown",
   "metadata": {
    "slideshow": {
     "slide_type": "slide"
    }
   },
   "source": [
    "# Tips and ticks\n",
    "\n",
    "- if you add images (not generated by python plotting), it is important to download these images too (for instance to the github repositoy). \n",
    " \n",
    "- In presentation mode, you can know more about the reveal-specific shortcuts just pressing the help button at the slideshow left bottom corner.\n",
    "- Darkish themes have css conflict with the notebook css, so it need customization to make them work (not provided by default).\n",
    "- Markdown Images get left aligned by default. Enclose the image like `<center>![noimg](path/to/image.png)</center>` to center it."
   ]
  },
  {
   "cell_type": "markdown",
   "metadata": {
    "slideshow": {
     "slide_type": "slide"
    }
   },
   "source": [
    "# Customize the style of your slides"
   ]
  },
  {
   "cell_type": "markdown",
   "metadata": {
    "slideshow": {
     "slide_type": "subslide"
    }
   },
   "source": [
    "### Change the default theme\n",
    "\n",
    "- By default `simple` theme is used\n",
    "- Try out for instance `sky`"
   ]
  },
  {
   "cell_type": "code",
   "execution_count": 12,
   "metadata": {
    "ExecuteTime": {
     "end_time": "2019-10-19T21:18:52.400228Z",
     "start_time": "2019-10-19T21:18:50.528517Z"
    },
    "slideshow": {
     "slide_type": "fragment"
    }
   },
   "outputs": [
    {
     "name": "stdout",
     "output_type": "stream",
     "text": [
      "[NbConvertApp] Converting notebook presentation.ipynb to slides\n",
      "[NbConvertApp] Writing 319216 bytes to presentation.slides.html\n"
     ]
    }
   ],
   "source": [
    "!jupyter nbconvert presentation.ipynb --to slides --no-prompt --TagRemovePreprocessor.remove_input_tags={\\\"to_remove\\\"} --SlidesExporter.reveal_theme=sky"
   ]
  },
  {
   "cell_type": "markdown",
   "metadata": {},
   "source": [
    "List of available theme at [https://github.com/hakimel/reveal.js/tree/master/css/theme](https://github.com/hakimel/reveal.js/tree/master/css/theme)"
   ]
  }
 ],
 "metadata": {
  "celltoolbar": "Edit Metadata",
  "kernelspec": {
   "display_name": "Python 3",
   "language": "python",
   "name": "python3"
  },
  "language_info": {
   "codemirror_mode": {
    "name": "ipython",
    "version": 3
   },
   "file_extension": ".py",
   "mimetype": "text/x-python",
   "name": "python",
   "nbconvert_exporter": "python",
   "pygments_lexer": "ipython3",
   "version": "3.7.3"
  },
  "toc": {
   "base_numbering": 1,
   "nav_menu": {},
   "number_sections": true,
   "sideBar": true,
   "skip_h1_title": false,
   "title_cell": "Table of Contents",
   "title_sidebar": "Contents",
   "toc_cell": false,
   "toc_position": {},
   "toc_section_display": true,
   "toc_window_display": false
  }
 },
 "nbformat": 4,
 "nbformat_minor": 4
}
