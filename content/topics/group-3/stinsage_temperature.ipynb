{
 "cells": [
  {
   "cell_type": "code",
   "execution_count": 16,
   "metadata": {},
   "outputs": [],
   "source": [
    "import xarray as xr\n",
    "import matplotlib.pyplot as plt\n",
    "import numpy as np\n",
    "#import pyaerocom as pya \n",
    "import cartopy as ccrs"
   ]
  },
  {
   "cell_type": "markdown",
   "metadata": {},
   "source": [
    "## Loading the data"
   ]
  },
  {
   "cell_type": "code",
   "execution_count": 17,
   "metadata": {},
   "outputs": [
    {
     "name": "stderr",
     "output_type": "stream",
     "text": [
      "/opt/conda/lib/python3.7/site-packages/xarray/conventions.py:494: SerializationWarning: variable 'tas' has multiple fill values {1e+20, 1e+20}, decoding all values to NaN.\n",
      "  use_cftime=use_cftime,\n"
     ]
    }
   ],
   "source": [
    "# Observational record (CRU)\n",
    "path_crutem = 'shared-ns1000k/inputs/CRU/CRUTEM.4.6.0.0.anomalies.nc'\n",
    "path_hadcrut = 'shared-ns1000k/inputs/CRU/HadCRUT.4.6.0.0.median.nc'\n",
    "  \n",
    "crutem_data = xr.open_dataset(path_crutem)\n",
    "hadcrut_data = xr.open_dataset(path_hadcrut)\n",
    "# Historical model data  \n",
    "    \n",
    "# CESM2 \n",
    "path_cesm2 = 'shared-cmip6-for-ns1000k/historical/CESM2/r1i1p1f1/tas_Amon_CESM2_historical_r1i1p1f1_gn_185001-201412.nc'\n",
    "tas_cesm2_data = xr.open_dataset(path_cesm2)\n",
    "\n",
    "# NorEsm2-LM\n",
    " \n",
    "\n"
   ]
  },
  {
   "cell_type": "markdown",
   "metadata": {},
   "source": [
    "## Weigthed averages "
   ]
  },
  {
   "cell_type": "code",
   "execution_count": 24,
   "metadata": {},
   "outputs": [
    {
     "name": "stderr",
     "output_type": "stream",
     "text": [
      "/opt/conda/lib/python3.7/site-packages/xarray/conventions.py:494: SerializationWarning: variable 'areacella' has multiple fill values {1e+20, 1e+20}, decoding all values to NaN.\n",
      "  use_cftime=use_cftime,\n"
     ]
    }
   ],
   "source": [
    "# Get the area weight \n",
    "path_area_weight_cesm2 = 'shared-cmip6-for-ns1000k/historical/CESM2/r1i1p1f1/areacella_fx_CESM2_historical_r1i1p1f1_gn.nc'\n",
    "areacella_cesm2 = xr.open_dataset(path_area_weight_cesm2)"
   ]
  },
  {
   "cell_type": "code",
   "execution_count": 25,
   "metadata": {},
   "outputs": [
    {
     "data": {
      "text/plain": [
       "<xarray.Dataset>\n",
       "Dimensions:    (lat: 192, lon: 288, nbnd: 2)\n",
       "Coordinates:\n",
       "  * lat        (lat) float64 -90.0 -89.06 -88.12 -87.17 ... 88.12 89.06 90.0\n",
       "  * lon        (lon) float64 0.0 1.25 2.5 3.75 5.0 ... 355.0 356.2 357.5 358.8\n",
       "Dimensions without coordinates: nbnd\n",
       "Data variables:\n",
       "    areacella  (lat, lon) float32 ...\n",
       "    lat_bnds   (lat, nbnd) float32 ...\n",
       "    lon_bnds   (lon, nbnd) float32 ...\n",
       "Attributes:\n",
       "    Conventions:            CF-1.7 CMIP-6.2\n",
       "    activity_id:            CMIP\n",
       "    case_id:                15\n",
       "    cesm_casename:          b.e21.BHIST.f09_g17.CMIP6-historical.001\n",
       "    contact:                cesm_cmip6@ucar.edu\n",
       "    creation_date:          2019-01-16T21:43:39Z\n",
       "    data_specs_version:     01.00.29\n",
       "    experiment:             all-forcing simulation of the recent past\n",
       "    experiment_id:          historical\n",
       "    forcing_index:          1\n",
       "    frequency:              fx\n",
       "    grid:                   native 0.9x1.25 finite volume grid (192x288 latxlon)\n",
       "    grid_label:             gn\n",
       "    initialization_index:   1\n",
       "    institution:            National Center for Atmospheric Research, Climate...\n",
       "    institution_id:         NCAR\n",
       "    license:                CMIP6 model data produced by <The National Center...\n",
       "    mip_era:                CMIP6\n",
       "    model_doi_url:          https://doi.org/10.5065/D67H1H0V\n",
       "    nominal_resolution:     100 km\n",
       "    parent_activity_id:     CMIP\n",
       "    parent_experiment_id:   piControl\n",
       "    parent_mip_era:         CMIP6\n",
       "    parent_source_id:       CESM2\n",
       "    parent_time_units:      days since 0001-01-01 00:00:00\n",
       "    parent_variant_label:   r1i1p1f1\n",
       "    physics_index:          1\n",
       "    product:                model-output\n",
       "    realization_index:      1\n",
       "    realm:                  atmos land\n",
       "    source:                 CESM2 (2017): atmosphere: CAM6 (0.9x1.25 finite v...\n",
       "    source_id:              CESM2\n",
       "    source_type:            AOGCM BGC\n",
       "    table_id:               fx\n",
       "    tracking_id:            hdl:21.14100/75033260-7bd2-46b9-9d98-3456f176d588\n",
       "    variable_id:            areacella\n",
       "    variant_info:           CMIP6 20th century experiments (1850-2014) with C...\n",
       "    variant_label:          r1i1p1f1\n",
       "    sub_experiment:         none\n",
       "    sub_experiment_id:      none\n",
       "    branch_time_in_parent:  219000.0\n",
       "    branch_time_in_child:   674885.0\n",
       "    branch_method:          standard\n",
       "    further_info_url:       https://furtherinfo.es-doc.org/CMIP6.NCAR.CESM2.h..."
      ]
     },
     "execution_count": 25,
     "metadata": {},
     "output_type": "execute_result"
    }
   ],
   "source": [
    "# Function to calculate the weighted average \n",
    "def masked_average(xa, dim=None, weights=None, mask=None):\n",
    "    \"\"\"\n",
    "    This function will average \n",
    "    :param xa: dataArray\n",
    "    :param dim: dimension or list of dimensions. e.g. 'lat' or ['lat','lon','time']\n",
    "    :param weights: weights (as xarray)\n",
    "    :param mask: mask (as xarray), True where values to be masked.\n",
    "    :return: masked average xarray\n",
    "    \"\"\"\n",
    "    _ = xa.copy()\n",
    "    if mask is not None:\n",
    "        dum, mask_alld = xr.broadcast(xa, mask) # broadcast to all dims\n",
    "        xa_ = xa_.where(np.logical_not(mask))\n",
    "        if weights is not None:\n",
    "            dum, weights_alld = xr.broadcast(xa, weights) # broadcast to all dims\n",
    "            weights_alld = weights_alld.where(np.logical_not(mask_alld))\n",
    "            return (xa_*weights_alld).sum(dim=dim)/weights_alld.sum(dim=dim)\n",
    "        else:\n",
    "            return xa_.mean(dim)\n",
    "    elif weights is not None:\n",
    "        dum, weights_alld = xr.broadcast(xa, weights) # broadcast to all dims\n",
    "        return (xa_*weights_alld).sum(dim)/weights_alld.where(xa_.notnull()).sum(dim=dim)\n",
    "    else:\n",
    "        return xa.mean(dim)"
   ]
  },
  {
   "cell_type": "code",
   "execution_count": null,
   "metadata": {},
   "outputs": [],
   "source": [
    "# Yearly average of the data \n",
    "#daily_t2m_1999 = t2m_1999.resample(time = 'D').mean()\n",
    "tas_cesm_yearly = tas_cesm2_data['tas'].resample(time = '1Y').mean()"
   ]
  },
  {
   "cell_type": "code",
   "execution_count": 15,
   "metadata": {},
   "outputs": [
    {
     "ename": "KeyError",
     "evalue": "'tas'",
     "output_type": "error",
     "traceback": [
      "\u001b[0;31m---------------------------------------------------------------------------\u001b[0m",
      "\u001b[0;31mKeyError\u001b[0m                                  Traceback (most recent call last)",
      "\u001b[0;32m/opt/conda/lib/python3.7/site-packages/xarray/core/dataarray.py\u001b[0m in \u001b[0;36m_getitem_coord\u001b[0;34m(self, key)\u001b[0m\n\u001b[1;32m    626\u001b[0m         \u001b[0;32mtry\u001b[0m\u001b[0;34m:\u001b[0m\u001b[0;34m\u001b[0m\u001b[0;34m\u001b[0m\u001b[0m\n\u001b[0;32m--> 627\u001b[0;31m             \u001b[0mvar\u001b[0m \u001b[0;34m=\u001b[0m \u001b[0mself\u001b[0m\u001b[0;34m.\u001b[0m\u001b[0m_coords\u001b[0m\u001b[0;34m[\u001b[0m\u001b[0mkey\u001b[0m\u001b[0;34m]\u001b[0m\u001b[0;34m\u001b[0m\u001b[0;34m\u001b[0m\u001b[0m\n\u001b[0m\u001b[1;32m    628\u001b[0m         \u001b[0;32mexcept\u001b[0m \u001b[0mKeyError\u001b[0m\u001b[0;34m:\u001b[0m\u001b[0;34m\u001b[0m\u001b[0;34m\u001b[0m\u001b[0m\n",
      "\u001b[0;31mKeyError\u001b[0m: 'tas'",
      "\nDuring handling of the above exception, another exception occurred:\n",
      "\u001b[0;31mKeyError\u001b[0m                                  Traceback (most recent call last)",
      "\u001b[0;32m<ipython-input-15-b58f6b6f39cf>\u001b[0m in \u001b[0;36m<module>\u001b[0;34m\u001b[0m\n\u001b[1;32m      1\u001b[0m \u001b[0;31m# Global average\u001b[0m\u001b[0;34m\u001b[0m\u001b[0;34m\u001b[0m\u001b[0;34m\u001b[0m\u001b[0m\n\u001b[0;32m----> 2\u001b[0;31m \u001b[0mtas_cesm_global\u001b[0m \u001b[0;34m=\u001b[0m \u001b[0mtas_cesm_yearly\u001b[0m\u001b[0;34m[\u001b[0m\u001b[0;34m'tas'\u001b[0m\u001b[0;34m]\u001b[0m\u001b[0;34m[\u001b[0m\u001b[0;34m:\u001b[0m\u001b[0;34m,\u001b[0m\u001b[0;34m:\u001b[0m\u001b[0;34m,\u001b[0m\u001b[0;34m:\u001b[0m\u001b[0;34m]\u001b[0m\u001b[0;34m.\u001b[0m\u001b[0mmean\u001b[0m\u001b[0;34m(\u001b[0m\u001b[0;34m)\u001b[0m\u001b[0;34m\u001b[0m\u001b[0;34m\u001b[0m\u001b[0m\n\u001b[0m",
      "\u001b[0;32m/opt/conda/lib/python3.7/site-packages/xarray/core/dataarray.py\u001b[0m in \u001b[0;36m__getitem__\u001b[0;34m(self, key)\u001b[0m\n\u001b[1;32m    636\u001b[0m     \u001b[0;32mdef\u001b[0m \u001b[0m__getitem__\u001b[0m\u001b[0;34m(\u001b[0m\u001b[0mself\u001b[0m\u001b[0;34m,\u001b[0m \u001b[0mkey\u001b[0m\u001b[0;34m:\u001b[0m \u001b[0mAny\u001b[0m\u001b[0;34m)\u001b[0m \u001b[0;34m->\u001b[0m \u001b[0;34m\"DataArray\"\u001b[0m\u001b[0;34m:\u001b[0m\u001b[0;34m\u001b[0m\u001b[0;34m\u001b[0m\u001b[0m\n\u001b[1;32m    637\u001b[0m         \u001b[0;32mif\u001b[0m \u001b[0misinstance\u001b[0m\u001b[0;34m(\u001b[0m\u001b[0mkey\u001b[0m\u001b[0;34m,\u001b[0m \u001b[0mstr\u001b[0m\u001b[0;34m)\u001b[0m\u001b[0;34m:\u001b[0m\u001b[0;34m\u001b[0m\u001b[0;34m\u001b[0m\u001b[0m\n\u001b[0;32m--> 638\u001b[0;31m             \u001b[0;32mreturn\u001b[0m \u001b[0mself\u001b[0m\u001b[0;34m.\u001b[0m\u001b[0m_getitem_coord\u001b[0m\u001b[0;34m(\u001b[0m\u001b[0mkey\u001b[0m\u001b[0;34m)\u001b[0m\u001b[0;34m\u001b[0m\u001b[0;34m\u001b[0m\u001b[0m\n\u001b[0m\u001b[1;32m    639\u001b[0m         \u001b[0;32melse\u001b[0m\u001b[0;34m:\u001b[0m\u001b[0;34m\u001b[0m\u001b[0;34m\u001b[0m\u001b[0m\n\u001b[1;32m    640\u001b[0m             \u001b[0;31m# xarray-style array indexing\u001b[0m\u001b[0;34m\u001b[0m\u001b[0;34m\u001b[0m\u001b[0;34m\u001b[0m\u001b[0m\n",
      "\u001b[0;32m/opt/conda/lib/python3.7/site-packages/xarray/core/dataarray.py\u001b[0m in \u001b[0;36m_getitem_coord\u001b[0;34m(self, key)\u001b[0m\n\u001b[1;32m    629\u001b[0m             \u001b[0mdim_sizes\u001b[0m \u001b[0;34m=\u001b[0m \u001b[0mdict\u001b[0m\u001b[0;34m(\u001b[0m\u001b[0mzip\u001b[0m\u001b[0;34m(\u001b[0m\u001b[0mself\u001b[0m\u001b[0;34m.\u001b[0m\u001b[0mdims\u001b[0m\u001b[0;34m,\u001b[0m \u001b[0mself\u001b[0m\u001b[0;34m.\u001b[0m\u001b[0mshape\u001b[0m\u001b[0;34m)\u001b[0m\u001b[0;34m)\u001b[0m\u001b[0;34m\u001b[0m\u001b[0;34m\u001b[0m\u001b[0m\n\u001b[1;32m    630\u001b[0m             _, key, var = _get_virtual_variable(\n\u001b[0;32m--> 631\u001b[0;31m                 \u001b[0mself\u001b[0m\u001b[0;34m.\u001b[0m\u001b[0m_coords\u001b[0m\u001b[0;34m,\u001b[0m \u001b[0mkey\u001b[0m\u001b[0;34m,\u001b[0m \u001b[0mself\u001b[0m\u001b[0;34m.\u001b[0m\u001b[0m_level_coords\u001b[0m\u001b[0;34m,\u001b[0m \u001b[0mdim_sizes\u001b[0m\u001b[0;34m\u001b[0m\u001b[0;34m\u001b[0m\u001b[0m\n\u001b[0m\u001b[1;32m    632\u001b[0m             )\n\u001b[1;32m    633\u001b[0m \u001b[0;34m\u001b[0m\u001b[0m\n",
      "\u001b[0;32m/opt/conda/lib/python3.7/site-packages/xarray/core/dataset.py\u001b[0m in \u001b[0;36m_get_virtual_variable\u001b[0;34m(variables, key, level_vars, dim_sizes)\u001b[0m\n\u001b[1;32m    146\u001b[0m         \u001b[0mref_var\u001b[0m \u001b[0;34m=\u001b[0m \u001b[0mdim_var\u001b[0m\u001b[0;34m.\u001b[0m\u001b[0mto_index_variable\u001b[0m\u001b[0;34m(\u001b[0m\u001b[0;34m)\u001b[0m\u001b[0;34m.\u001b[0m\u001b[0mget_level_variable\u001b[0m\u001b[0;34m(\u001b[0m\u001b[0mref_name\u001b[0m\u001b[0;34m)\u001b[0m\u001b[0;34m\u001b[0m\u001b[0;34m\u001b[0m\u001b[0m\n\u001b[1;32m    147\u001b[0m     \u001b[0;32melse\u001b[0m\u001b[0;34m:\u001b[0m\u001b[0;34m\u001b[0m\u001b[0;34m\u001b[0m\u001b[0m\n\u001b[0;32m--> 148\u001b[0;31m         \u001b[0mref_var\u001b[0m \u001b[0;34m=\u001b[0m \u001b[0mvariables\u001b[0m\u001b[0;34m[\u001b[0m\u001b[0mref_name\u001b[0m\u001b[0;34m]\u001b[0m\u001b[0;34m\u001b[0m\u001b[0;34m\u001b[0m\u001b[0m\n\u001b[0m\u001b[1;32m    149\u001b[0m \u001b[0;34m\u001b[0m\u001b[0m\n\u001b[1;32m    150\u001b[0m     \u001b[0;32mif\u001b[0m \u001b[0mvar_name\u001b[0m \u001b[0;32mis\u001b[0m \u001b[0;32mNone\u001b[0m\u001b[0;34m:\u001b[0m\u001b[0;34m\u001b[0m\u001b[0;34m\u001b[0m\u001b[0m\n",
      "\u001b[0;31mKeyError\u001b[0m: 'tas'"
     ]
    }
   ],
   "source": [
    "# Global average \n"
   ]
  },
  {
   "cell_type": "code",
   "execution_count": 9,
   "metadata": {},
   "outputs": [
    {
     "data": {
      "text/plain": [
       "<xarray.DataArray 'tas' ()>\n",
       "array(277.92297, dtype=float32)"
      ]
     },
     "execution_count": 9,
     "metadata": {},
     "output_type": "execute_result"
    }
   ],
   "source": [
    "tas_cesm_global"
   ]
  },
  {
   "cell_type": "code",
   "execution_count": 8,
   "metadata": {},
   "outputs": [
    {
     "data": {
      "text/plain": [
       "<xarray.DataArray 'tas' (year: 165, lat: 192, lon: 288)>\n",
       "array([[[224.4655 , 224.46547, 224.46547, ..., 224.46547, 224.46547,\n",
       "         224.46547],\n",
       "        [224.89612, 224.86778, 224.72174, ..., 224.89752, 224.90123,\n",
       "         224.89964],\n",
       "        [225.38698, 225.36232, 225.35796, ..., 225.5744 , 225.53694,\n",
       "         225.48076],\n",
       "        ...,\n",
       "        [256.6074 , 256.6331 , 256.657  , ..., 256.54022, 256.56216,\n",
       "         256.58295],\n",
       "        [256.29343, 256.30157, 256.30997, ..., 256.26462, 256.27466,\n",
       "         256.28442],\n",
       "        [255.96272, 255.96405, 255.96526, ..., 255.95795, 255.95967,\n",
       "         255.96129]],\n",
       "\n",
       "       [[225.02513, 225.02513, 225.02513, ..., 225.02513, 225.02513,\n",
       "         225.02513],\n",
       "        [225.47853, 225.44695, 225.2979 , ..., 225.48708, 225.48834,\n",
       "         225.48439],\n",
       "        [225.96367, 225.9362 , 225.92958, ..., 226.15318, 226.1164 ,\n",
       "         226.05931],\n",
       "        ...,\n",
       "        [256.69946, 256.71533, 256.72977, ..., 256.6564 , 256.67044,\n",
       "         256.68372],\n",
       "        [256.5364 , 256.54178, 256.54733, ..., 256.5177 , 256.5243 ,\n",
       "         256.53058],\n",
       "        [256.38513, 256.38577, 256.3864 , ..., 256.38254, 256.38348,\n",
       "         256.3843 ]],\n",
       "\n",
       "       [[224.43323, 224.43323, 224.43323, ..., 224.43323, 224.43323,\n",
       "         224.43323],\n",
       "        [224.79431, 224.76717, 224.6226 , ..., 224.7906 , 224.79597,\n",
       "         224.7961 ],\n",
       "        [225.23415, 225.21263, 225.21199, ..., 225.40553, 225.37396,\n",
       "         225.32281],\n",
       "        ...,\n",
       "        [254.9683 , 254.99547, 255.02144, ..., 254.89632, 254.91945,\n",
       "         254.94197],\n",
       "        [254.91895, 254.92598, 254.93333, ..., 254.89545, 254.90369,\n",
       "         254.91154],\n",
       "        [254.80573, 254.8065 , 254.80719, ..., 254.80293, 254.80396,\n",
       "         254.80492]],\n",
       "\n",
       "       ...,\n",
       "\n",
       "       [[226.8747 , 226.87465, 226.8747 , ..., 226.87465, 226.87463,\n",
       "         226.87468],\n",
       "        [227.09892, 227.06682, 226.91841, ..., 227.1061 , 227.10767,\n",
       "         227.10448],\n",
       "        [227.57092, 227.54103, 227.53595, ..., 227.75331, 227.71944,\n",
       "         227.6643 ],\n",
       "        ...,\n",
       "        [258.8723 , 258.8749 , 258.8771 , ..., 258.86423, 258.8664 ,\n",
       "         258.86896],\n",
       "        [259.0241 , 259.0245 , 259.02524, ..., 259.02356, 259.02414,\n",
       "         259.02408],\n",
       "        [259.27103, 259.27042, 259.26987, ..., 259.27322, 259.27243,\n",
       "         259.2717 ]],\n",
       "\n",
       "       [[225.6037 , 225.6037 , 225.6037 , ..., 225.6037 , 225.6037 ,\n",
       "         225.6037 ],\n",
       "        [225.68701, 225.65607, 225.508  , ..., 225.69873, 225.69786,\n",
       "         225.693  ],\n",
       "        [225.88914, 225.86302, 225.85878, ..., 226.0803 , 226.04248,\n",
       "         225.98372],\n",
       "        ...,\n",
       "        [261.38132, 261.3901 , 261.39807, ..., 261.3549 , 261.36337,\n",
       "         261.37164],\n",
       "        [261.39246, 261.395  , 261.39743, ..., 261.38327, 261.38666,\n",
       "         261.38968],\n",
       "        [261.30823, 261.30875, 261.3092 , ..., 261.30634, 261.307  ,\n",
       "         261.30765]],\n",
       "\n",
       "       [[226.04913, 226.04913, 226.04913, ..., 226.04913, 226.04913,\n",
       "         226.04913],\n",
       "        [226.4693 , 226.43915, 226.2913 , ..., 226.47685, 226.47803,\n",
       "         226.47467],\n",
       "        [226.95909, 226.93245, 226.92613, ..., 227.14818, 227.11066,\n",
       "         227.05309],\n",
       "        ...,\n",
       "        [259.1596 , 259.1677 , 259.17502, ..., 259.13437, 259.14218,\n",
       "         259.15036],\n",
       "        [259.24295, 259.24844, 259.2543 , ..., 259.2261 , 259.23203,\n",
       "         259.23755],\n",
       "        [259.37125, 259.37112, 259.371  , ..., 259.37183, 259.3716 ,\n",
       "         259.37143]]], dtype=float32)\n",
       "Coordinates:\n",
       "  * lat      (lat) float64 -90.0 -89.06 -88.12 -87.17 ... 87.17 88.12 89.06 90.0\n",
       "  * lon      (lon) float64 0.0 1.25 2.5 3.75 5.0 ... 355.0 356.2 357.5 358.8\n",
       "  * year     (year) int64 1850 1851 1852 1853 1854 ... 2010 2011 2012 2013 2014"
      ]
     },
     "execution_count": 8,
     "metadata": {},
     "output_type": "execute_result"
    }
   ],
   "source": [
    "# Time series of CESM data \n"
   ]
  },
  {
   "cell_type": "code",
   "execution_count": null,
   "metadata": {},
   "outputs": [],
   "source": []
  }
 ],
 "metadata": {
  "kernelspec": {
   "display_name": "Python 3",
   "language": "python",
   "name": "python3"
  },
  "language_info": {
   "codemirror_mode": {
    "name": "ipython",
    "version": 3
   },
   "file_extension": ".py",
   "mimetype": "text/x-python",
   "name": "python",
   "nbconvert_exporter": "python",
   "pygments_lexer": "ipython3",
   "version": "3.7.3"
  }
 },
 "nbformat": 4,
 "nbformat_minor": 4
}
