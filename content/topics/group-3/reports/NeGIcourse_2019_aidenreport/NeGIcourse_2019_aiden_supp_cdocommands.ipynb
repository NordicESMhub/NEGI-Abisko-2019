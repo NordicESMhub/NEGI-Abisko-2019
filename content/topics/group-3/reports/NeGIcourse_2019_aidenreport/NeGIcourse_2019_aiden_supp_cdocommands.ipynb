{
 "cells": [
  {
   "cell_type": "markdown",
   "metadata": {},
   "source": [
    "# **NeGI course in Abisko 2019**\n",
    "## **Supplementary material: CDO operations used for the report**\n",
    "#### Aiden Jönsson\n",
    "\n",
    "This file contains the CDO command line operations used to prepare data for the course project. \n",
    "\n",
    "#### **AOD in model and satellites**\n",
    "The following were used to calculate the mean AOD for the 2002-2011 period:"
   ]
  },
  {
   "cell_type": "code",
   "execution_count": null,
   "metadata": {},
   "outputs": [],
   "source": [
    "##CMIP6\n",
    "!cdo ymonmean -selyear,2002/2011 -mergetime shared-cmip6-for-ns1000k/historical/NorESM2-LM/r1i1p1f1/od550aer_AERmon_NorESM2-LM_historical_r1i1p1f1_gn_200001-200912.nc shared-cmip6-for-ns1000k/historical/NorESM2-LM/r1i1p1f1/od550aer_AERmon_NorESM2-LM_historical_r1i1p1f1_gn_201001-201412.nc NorESM_hist_od550aer.nc\n",
    "!cdo ymonmean -selyear,2002/2011 shared-cmip6-for-ns1000k/historical/CESM2/r1i1p1f1/od550aer_AERmon_CESM2_historical_r1i1p1f1_gn_185001-201412.nc CESM2_hist_od550aer.nc\n",
    "!cdo ymonmean -selyear,2002/2011 shared-cmip6-for-ns1000k/historical/CNRM-ESM2-1/r1i1p1f2/od550aer_AERmon_CNRM-ESM2-1_historical_r1i1p1f2_gr_185001-201412.nc CNRM_hist_od550aer.nc\n",
    "!cdo ymonmean -selyear,2002/2011 shared-cmip6-for-ns1000k/historical/CanESM5/r1i1p1f1/od550aer_AERmon_CanESM5_historical_r1i1p1f1_gn_185001-201412.nc Can_hist_od550aer.nc\n",
    "!cdo ymonmean -selyear,2002/2011 shared-cmip6-for-ns1000k/historical/UKESM1-0-LL/r1i1p1f2/od550aer_AERmon_UKESM1-0-LL_historical_r1i1p1f2_gn_195001-201412.nc UKESM_hist_od550aer.nc\n",
    "\n",
    "##ATSR and AATSR\n",
    "!cdo ymonstd -selyear,2002/2011 -mergetime shared-ns1000k/inputs/pyaerocom-testdata/obsdata/ATSR_SU_v4.3.LT/renamed/aerocom.ATSR_SU_v4.3.LT.daily.od550aer.20* ATSR_sdev_od550aer.nc\n",
    "!cdo ymonstd -selyear,2002/2011 -mergetime shared-ns1000k/inputs/pyaerocom-testdata/obsdata/ATSR_SU_v4.3.LT/renamed/aerocom.AATSR_SU_v4.3.daily.od550aer.20* AATSR_sdev_od550aer.nc"
   ]
  },
  {
   "cell_type": "markdown",
   "metadata": {},
   "source": [
    "The following were used to calculate the standard deviation for AOD in the same period:"
   ]
  },
  {
   "cell_type": "code",
   "execution_count": null,
   "metadata": {},
   "outputs": [],
   "source": [
    "##CMIP6\n",
    "!cdo ymonstd -selyear,2002/2011 -mergetime shared-cmip6-for-ns1000k/historical/NorESM2-LM/r1i1p1f1/od550aer_AERmon_NorESM2-LM_historical_r1i1p1f1_gn_200001-200912.nc shared-cmip6-for-ns1000k/historical/NorESM2-LM/r1i1p1f1/od550aer_AERmon_NorESM2-LM_historical_r1i1p1f1_gn_201001-201412.nc NorESM_sdev_od550aer.nc\n",
    "!cdo ymonstd -selyear,2002/2011 shared-cmip6-for-ns1000k/historical/CESM2/r1i1p1f1/od550aer_AERmon_CESM2_historical_r1i1p1f1_gn_185001-201412.nc CESM2_sdev_od550aer.nc\n",
    "!cdo ymonstd -selyear,2002/2011 shared-cmip6-for-ns1000k/historical/CNRM-ESM2-1/r1i1p1f2/od550aer_AERmon_CNRM-ESM2-1_historical_r1i1p1f2_gr_185001-201412.nc CNRM_sdev_od550aer.nc\n",
    "!cdo ymonstd -selyear,2002/2011 shared-cmip6-for-ns1000k/historical/CanESM5/r1i1p1f1/od550aer_AERmon_CanESM5_historical_r1i1p1f1_gn_185001-201412.nc Can_sdev_od550aer.nc\n",
    "!cdo ymonstd -selyear,2002/2011 shared-cmip6-for-ns1000k/historical/UKESM1-0-LL/r1i1p1f2/od550aer_AERmon_UKESM1-0-LL_historical_r1i1p1f2_gn_195001-201412.nc UKESM_sdev_od550aer.nc\n",
    "\n",
    "##ATSR and AATSR\n",
    "!cdo ymonstd -selyear,2002/2011 -mergetime shared-ns1000k/inputs/pyaerocom-testdata/obsdata/ATSR_SU_v4.3.LT/renamed/aerocom.ATSR_SU_v4.3.LT.daily.od550aer.20* ATSR_sdev_od550aer.nc\n",
    "!cdo ymonstd -selyear,2002/2011 -mergetime shared-ns1000k/inputs/pyaerocom-testdata/obsdata/ATSR_SU_v4.3.LT/renamed/aerocom.AATSR_SU_v4.3.daily.od550aer.20* AATSR_sdev_od550aer.nc"
   ]
  },
  {
   "cell_type": "markdown",
   "metadata": {},
   "source": [
    "#### **PI-BC/PI-control experiments section**\n",
    "For the pre-industrial control (PI) data, seasonal averages of surface temperature were calculated thusly:"
   ]
  },
  {
   "cell_type": "code",
   "execution_count": null,
   "metadata": {},
   "outputs": [],
   "source": [
    "!cdo yseasmean -mergetime ../shared-cmip6-for-ns1000k/piClim-BC/NorESM2-LM/r1i1p1f1/tas_Amon_NorESM2-LM_piClim-BC_r1i1p1f1_gn_00* NorESM2_picontrol_tas.nc\n",
    "!cdo yseasmean ../shared-cmip6-for-ns1000k/piClim-BC/UKESM1-0-LL/r1i1p1f2/tas_Amon_UKESM1-0-LL_piClim-BC_r1i1p1f2_gn_185001-189412.nc UKESM1_picontrol_tas.nc\n",
    "!cdo yseasmean ../shared-cmip6-for-ns1000k/piControl/CNRM-ESM2-1/r1i1p1f2/tas_Amon_CNRM-ESM2-1_piClim-BC_r1i1p1f2_gr_185001-187912.nc CNRM_picontrol_tas.nc"
   ]
  },
  {
   "cell_type": "markdown",
   "metadata": {},
   "source": [
    "Seasonal averages of the surface temperature during the pre-industrial with 2014 BC emissions were calculated using:"
   ]
  },
  {
   "cell_type": "code",
   "execution_count": null,
   "metadata": {},
   "outputs": [],
   "source": [
    "!cdo yseasmean -mergetime ../shared-cmip6-for-ns1000k/piClim-control/NorESM2-LM/r1i1p1f1/tas_Amon_NorESM2-LM_piClim-control_r1i1p1f1_gn_00* NorESM2_picontrol_tas.nc\n",
    "!cdo yseasmean ../shared-cmip6-for-ns1000k/piClim-control/UKESM1-0-LL/r1i1p1f2/tas_Amon_UKESM1-0-LL_piClim-control_r1i1p1f2_gn_185001-189412.nc UKESM1_picontrol_tas.nc\n",
    "!cdo yseasmean ../shared-cmip6-for-ns1000k/piClim-control/CNRM-ESM2-1/r1i1p1f2/tas_Amon_CNRM-ESM2-1_piClim-control_r1i1p1f2_gr_185001-187912.nc CNRM_picontrol_tas.nc"
   ]
  },
  {
   "cell_type": "markdown",
   "metadata": {},
   "source": [
    "Due to the irregular dates in the pre-industrial experiments, the AOD files were difficult to work with using `xarray`, so the following CDO operations were used to directly calculate the differences between the AOD in the PI-BC and the PI experiments in the following way:"
   ]
  },
  {
   "cell_type": "code",
   "execution_count": null,
   "metadata": {},
   "outputs": [],
   "source": [
    "!cdo sub -yseasmean -mergetime ../shared-cmip6-for-ns1000k/piClim-BC/NorESM2-LM/r1i1p1f1/od550aer_AERmon_NorESM2-LM_piClim-BC_r1i1p1f1_gn_00* -yseasmean -mergetime ../shared-cmip6-for-ns1000k/piClim-control/NorESM2-LM/r1i1p1f1/od550aer_AERmon_NorESM2-LM_piClim-control_r1i1p1f1_gn_00* NorESM2_diff_od550aer.nc\n",
    "!cdo sub -yseasmean ../shared-cmip6-for-ns1000k/piClim-BC/UKESM1-0-LL/r1i1p1f2/od550aer_AERmon_UKESM1-0-LL_piClim-BC_r1i1p1f2_gn_185001-189412.nc -yseasmean ../shared-cmip6-for-ns1000k/piClim-control/UKESM1-0-LL/r1i1p1f2/od550aer_AERmon_UKESM1-0-LL_piClim-control_r1i1p1f2_gn_185001-189412.nc UKESM1_diff_od550aer.nc\n",
    "!cdo sub -yseasmean ../shared-cmip6-for-ns1000k/piClim-BC/CNRM-ESM2-1/r1i1p1f2/od550aer_AERmon_CNRM-ESM2-1_piClim-BC_r1i1p1f2_gr_185001-187912.nc -yseasmean ../shared-cmip6-for-ns1000k/piClim-control/CNRM-ESM2-1/r1i1p1f2/od550aer_AERmon_CNRM-ESM2-1_piClim-control_r1i1p1f2_gr_185001-187912.nc CNRM_diff_od550aer.nc"
   ]
  }
 ],
 "metadata": {
  "kernelspec": {
   "display_name": "Python 3",
   "language": "python",
   "name": "python3"
  },
  "language_info": {
   "codemirror_mode": {
    "name": "ipython",
    "version": 3
   },
   "file_extension": ".py",
   "mimetype": "text/x-python",
   "name": "python",
   "nbconvert_exporter": "python",
   "pygments_lexer": "ipython3",
   "version": "3.7.3"
  },
  "toc-autonumbering": false
 },
 "nbformat": 4,
 "nbformat_minor": 4
}
