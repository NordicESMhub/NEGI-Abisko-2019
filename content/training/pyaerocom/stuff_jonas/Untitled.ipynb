{
 "cells": [
  {
   "cell_type": "code",
   "execution_count": 6,
   "metadata": {},
   "outputs": [
    {
     "name": "stderr",
     "output_type": "stream",
     "text": [
      "Initiating directories for pyaerocom test dataset\n",
      "2019-10-22 10:35:29,962:INFO:\n",
      "Checking data directories\n"
     ]
    }
   ],
   "source": [
    "import pyaerocom as pya\n",
    "\n",
    "pya.const.BASEDIR = '/home/notebook/shared-ns1000k/inputs/pyaerocom-testdata/'\n",
    "pya.change_verbosity('info')"
   ]
  },
  {
   "cell_type": "code",
   "execution_count": 7,
   "metadata": {},
   "outputs": [
    {
     "name": "stdout",
     "output_type": "stream",
     "text": [
      "\n",
      "Pyaerocom GridIO\n",
      "----------------\n",
      "\n",
      "FILE_TYPE: .nc\n",
      "TS_TYPES (list, 7 items): [minutely, hourly, ..., monthly, yearly]\n",
      "PERFORM_FMT_CHECKS: False\n",
      "DEL_TIME_BOUNDS: True\n",
      "SHIFT_LONS: False\n",
      "CHECK_TIME_FILENAME: False\n",
      "CORRECT_TIME_FILENAME: False\n",
      "CHECK_DIM_COORDS: False\n",
      "EQUALISE_METADATA: False\n",
      "INCLUDE_SUBDIRS: True\n",
      "INFER_SURFACE_LEVEL: True\n"
     ]
    }
   ],
   "source": [
    "print(pya.const.GRID_IO)"
   ]
  },
  {
   "cell_type": "code",
   "execution_count": 3,
   "metadata": {},
   "outputs": [
    {
     "name": "stderr",
     "output_type": "stream",
     "text": [
      "2019-10-22 10:34:19,752:INFO:\n",
      "Searching database for CAM6-Oslo_NHIST_f19_tn14_20190710_2010\n",
      "2019-10-22 10:34:19,753:INFO:\n",
      "/home/notebook/shared-ns1000k/inputs/pyaerocom-testdata/modeldata/CAM6-Oslo_NHIST_f19_tn14_20190710_2010 has subdir renamed. Using that one\n",
      "2019-10-22 10:34:19,754:INFO:\n",
      "Found match for ID CAM6-Oslo_NHIST_f19_tn14_20190710_2010\n",
      "2019-10-22 10:34:19,792:WARNING:\n",
      "File /home/notebook/shared-ns1000k/inputs/pyaerocom-testdata/modeldata/CAM6-Oslo_NHIST_f19_tn14_20190710_2010/renamed/CAM6-Oslo_NHIST_f19_tn14_20190710_od550aer_Column_2010_monthly.nc contains more than one variable\n",
      "2019-10-22 10:34:19,793:INFO:\n",
      "Found default configuration for variable od550aer\n"
     ]
    },
    {
     "name": "stdout",
     "output_type": "stream",
     "text": [
      "2010-02-01T00:00:00.000000\n"
     ]
    }
   ],
   "source": [
    "reader = pya.io.ReadGridded('CAM6-Oslo_NHIST_f19_tn14_20190710_2010')\n",
    "\n",
    "data = reader.read_var('od550aer')\n",
    "\n",
    "print(data.start)"
   ]
  },
  {
   "cell_type": "code",
   "execution_count": 8,
   "metadata": {},
   "outputs": [],
   "source": [
    "import iris"
   ]
  },
  {
   "cell_type": "code",
   "execution_count": 12,
   "metadata": {},
   "outputs": [
    {
     "name": "stderr",
     "output_type": "stream",
     "text": [
      "2019-10-22 10:37:07,598:WARNING:\n",
      "File /home/notebook/shared-ns1000k/inputs/pyaerocom-testdata/modeldata/CAM6-Oslo_NHIST_f19_tn14_20190710_2010/renamed/CAM6-Oslo_NHIST_f19_tn14_20190710_od550aer_Column_2010_monthly.nc contains more than one variable\n",
      "2019-10-22 10:37:07,600:INFO:\n",
      "Found default configuration for variable od550aer\n"
     ]
    },
    {
     "data": {
      "text/plain": [
       "array(['2010-02-01T00:00:00.000000', '2010-03-01T00:00:00.000000',\n",
       "       '2010-04-01T00:00:00.000000', '2010-05-01T00:00:00.000000',\n",
       "       '2010-06-01T00:00:00.000000', '2010-07-01T00:00:00.000000',\n",
       "       '2010-08-01T00:00:00.000000', '2010-09-01T00:00:00.000000',\n",
       "       '2010-10-01T00:00:00.000000', '2010-11-01T00:00:00.000000',\n",
       "       '2010-12-01T00:00:00.000000', '2011-01-01T00:00:00.000000'],\n",
       "      dtype='datetime64[us]')"
      ]
     },
     "execution_count": 12,
     "metadata": {},
     "output_type": "execute_result"
    }
   ],
   "source": [
    "pya.GriddedData(data.from_files[0], 'od550aer').time_stamps()"
   ]
  }
 ],
 "metadata": {
  "kernelspec": {
   "display_name": "Python 3",
   "language": "python",
   "name": "python3"
  },
  "language_info": {
   "codemirror_mode": {
    "name": "ipython",
    "version": 3
   },
   "file_extension": ".py",
   "mimetype": "text/x-python",
   "name": "python",
   "nbconvert_exporter": "python",
   "pygments_lexer": "ipython3",
   "version": "3.7.3"
  }
 },
 "nbformat": 4,
 "nbformat_minor": 4
}
