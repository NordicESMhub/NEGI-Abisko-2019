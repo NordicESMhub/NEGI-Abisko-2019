{
 "cells": [
  {
   "cell_type": "markdown",
   "metadata": {},
   "source": [
    "# Compute mean model"
   ]
  },
  {
   "cell_type": "markdown",
   "metadata": {},
   "source": [
    "### Load pyaerocom and set base directory"
   ]
  },
  {
   "cell_type": "code",
   "execution_count": 2,
   "metadata": {},
   "outputs": [
    {
     "name": "stderr",
     "output_type": "stream",
     "text": [
      "Initiating directories for pyaerocom test dataset\n"
     ]
    }
   ],
   "source": [
    "import pyaerocom as pya\n",
    "\n",
    "pya.const.BASEDIR = '/home/notebook/shared-ns1000k/inputs/pyaerocom-testdata/'"
   ]
  },
  {
   "cell_type": "markdown",
   "metadata": {},
   "source": [
    "### Specify year, variable, frequency and models to be merged"
   ]
  },
  {
   "cell_type": "code",
   "execution_count": 3,
   "metadata": {},
   "outputs": [],
   "source": [
    "YEAR = 2010\n",
    "VAR_NAME = 'od550aer'\n",
    "TS_TYPE = 'monthly'"
   ]
  },
  {
   "cell_type": "code",
   "execution_count": 8,
   "metadata": {},
   "outputs": [],
   "source": [
    "MODEL_IDS = ['CAM6-Oslo_NHIST_f19_tn14_20190710_2010', 'ECHAM6.3-HAM2.3-met2010_AP3-CTRL', 'CAM5-ATRAS_AP3-CTRL']\n",
    "\n",
    "MODEL_IDS = ['CAM6-Oslo_NHIST_f19_tn14_20190710_2010', 'ECHAM6.3-HAM2.3-met2010_AP3-CTRL']#, 'CAM5-ATRAS_AP3-CTRL']"
   ]
  },
  {
   "cell_type": "markdown",
   "metadata": {},
   "source": [
    "### (Lazy) load model fields"
   ]
  },
  {
   "cell_type": "code",
   "execution_count": 10,
   "metadata": {},
   "outputs": [],
   "source": [
    "data = []\n",
    "for model in MODEL_IDS:\n",
    "    data.append(pya.io.ReadGridded(model).read_var(VAR_NAME, start=YEAR, ts_type='monthly'))"
   ]
  },
  {
   "cell_type": "code",
   "execution_count": 11,
   "metadata": {},
   "outputs": [
    {
     "name": "stdout",
     "output_type": "stream",
     "text": [
      "CAM6-Oslo_NHIST_f19_tn14_20190710_2010 (11, 96, 144)\n",
      "ECHAM6.3-HAM2.3-met2010_AP3-CTRL (12, 96, 192)\n"
     ]
    }
   ],
   "source": [
    "for model in data:\n",
    "    print(model.data_id, model.shape) "
   ]
  },
  {
   "cell_type": "code",
   "execution_count": 14,
   "metadata": {},
   "outputs": [
    {
     "data": {
      "text/plain": [
       "<xarray.Dataset>\n",
       "Dimensions:    (lat: 96, lon: 144, nbnd: 2, time: 12)\n",
       "Coordinates:\n",
       "  * lat        (lat) float64 -90.0 -88.11 -86.21 -84.32 ... 86.21 88.11 90.0\n",
       "  * lon        (lon) float64 0.0 2.5 5.0 7.5 10.0 ... 350.0 352.5 355.0 357.5\n",
       "  * time       (time) object 2010-02-01 00:00:00 ... 2011-01-01 00:00:00\n",
       "Dimensions without coordinates: nbnd\n",
       "Data variables:\n",
       "    od550aer   (time, lat, lon) float32 0.003288469 0.0032884297 ... 0.030857734\n",
       "    gw         (lat) float64 0.0001367 0.001093 0.002185 ... 0.001093 0.0001367\n",
       "    time_bnds  (time, nbnd) object 2010-01-01 00:00:00 ... 2011-01-01 00:00:00\n",
       "Attributes:\n",
       "    Conventions:                CF-1.0\n",
       "    source:                     CAM\n",
       "    case:                       NHIST_f19_tn14_20190710\n",
       "    logname:                    olivie\n",
       "    host:                       \n",
       "    initial_file:               /cluster/shared/noresm/inputdata/atm/cam/inic...\n",
       "    topography_file:            /cluster/shared/noresm/inputdata/atm/cam/topo...\n",
       "    model_doi_url:              https://doi.org/10.5065/D67H1H0V\n",
       "    time_period_freq:           month_1\n",
       "    history:                    Tue Sep 10 13:21:44 2019: ncatted -O -a units...\n",
       "    NCO:                        netCDF Operators version 4.7.5 (Homepage = ht...\n",
       "    nco_openmp_thread_number:   1\n",
       "    history_of_appended_files:  Tue Sep 10 13:21:44 2019: Appended file /scra..."
      ]
     },
     "execution_count": 14,
     "metadata": {},
     "output_type": "execute_result"
    }
   ],
   "source": [
    "import xarray as xr\n",
    "\n",
    "arr = xr.load_dataset(data[0].from_files[0])\n",
    "arr"
   ]
  },
  {
   "cell_type": "code",
   "execution_count": 41,
   "metadata": {},
   "outputs": [
    {
     "data": {
      "text/plain": [
       "array(['2010-02-01T00:00:00.000000', '2010-03-01T00:00:00.000000',\n",
       "       '2010-04-01T00:00:00.000000', '2010-05-01T00:00:00.000000',\n",
       "       '2010-06-01T00:00:00.000000', '2010-07-01T00:00:00.000000',\n",
       "       '2010-08-01T00:00:00.000000', '2010-09-01T00:00:00.000000',\n",
       "       '2010-10-01T00:00:00.000000', '2010-11-01T00:00:00.000000',\n",
       "       '2010-12-01T00:00:00.000000'], dtype='datetime64[us]')"
      ]
     },
     "execution_count": 41,
     "metadata": {},
     "output_type": "execute_result"
    }
   ],
   "source": [
    "model.time_stamps()"
   ]
  },
  {
   "cell_type": "code",
   "execution_count": 26,
   "metadata": {},
   "outputs": [
    {
     "data": {
      "text/plain": [
       "[18432, 13824]"
      ]
     },
     "execution_count": 26,
     "metadata": {},
     "output_type": "execute_result"
    }
   ],
   "source": [
    "num_gp = []\n",
    "for mod in data:\n",
    "    num_gp.append(len(mod.longitude.points) * len(mod.latitude.points))\n",
    "num_gp"
   ]
  },
  {
   "cell_type": "code",
   "execution_count": 27,
   "metadata": {},
   "outputs": [
    {
     "data": {
      "text/plain": [
       "pyaerocom.GriddedData\n",
       "Grid data: <iris 'Cube' of Ambient Aerosol Optical Thickness at 550 nm / (1) (time: 12; latitude: 96; longitude: 192)>"
      ]
     },
     "execution_count": 27,
     "metadata": {},
     "output_type": "execute_result"
    }
   ],
   "source": [
    "data[0]"
   ]
  },
  {
   "cell_type": "code",
   "execution_count": 28,
   "metadata": {},
   "outputs": [
    {
     "data": {
      "text/plain": [
       "pyaerocom.GriddedData\n",
       "Grid data: <iris 'Cube' of ambient aerosol optical thickness at 550 nm / (1) (time: 12; latitude: 96; longitude: 144)>"
      ]
     },
     "execution_count": 28,
     "metadata": {},
     "output_type": "execute_result"
    }
   ],
   "source": [
    "data[1]"
   ]
  },
  {
   "cell_type": "code",
   "execution_count": 29,
   "metadata": {},
   "outputs": [],
   "source": [
    "data_sorted = [x for _,x in sorted(zip(num_gp,data))]"
   ]
  },
  {
   "cell_type": "code",
   "execution_count": 30,
   "metadata": {},
   "outputs": [
    {
     "data": {
      "text/plain": [
       "pyaerocom.GriddedData\n",
       "Grid data: <iris 'Cube' of ambient aerosol optical thickness at 550 nm / (1) (time: 12; latitude: 96; longitude: 144)>"
      ]
     },
     "execution_count": 30,
     "metadata": {},
     "output_type": "execute_result"
    }
   ],
   "source": [
    "data_sorted[0]"
   ]
  },
  {
   "cell_type": "code",
   "execution_count": 31,
   "metadata": {},
   "outputs": [
    {
     "data": {
      "text/plain": [
       "pyaerocom.GriddedData\n",
       "Grid data: <iris 'Cube' of Ambient Aerosol Optical Thickness at 550 nm / (1) (time: 12; latitude: 96; longitude: 192)>"
      ]
     },
     "execution_count": 31,
     "metadata": {},
     "output_type": "execute_result"
    }
   ],
   "source": [
    "data_sorted[1]"
   ]
  },
  {
   "cell_type": "code",
   "execution_count": 32,
   "metadata": {},
   "outputs": [],
   "source": [
    "base_model = data_sorted.pop(0)"
   ]
  },
  {
   "cell_type": "code",
   "execution_count": 33,
   "metadata": {},
   "outputs": [
    {
     "data": {
      "text/plain": [
       "[pyaerocom.GriddedData\n",
       " Grid data: <iris 'Cube' of Ambient Aerosol Optical Thickness at 550 nm / (1) (time: 12; latitude: 96; longitude: 192)>]"
      ]
     },
     "execution_count": 33,
     "metadata": {},
     "output_type": "execute_result"
    }
   ],
   "source": [
    "data_sorted"
   ]
  },
  {
   "cell_type": "code",
   "execution_count": 34,
   "metadata": {},
   "outputs": [],
   "source": [
    "for md in data_sorted:\n",
    "    base_model = md.regrid(base_model)"
   ]
  }
 ],
 "metadata": {
  "kernelspec": {
   "display_name": "Python 3",
   "language": "python",
   "name": "python3"
  },
  "language_info": {
   "codemirror_mode": {
    "name": "ipython",
    "version": 3
   },
   "file_extension": ".py",
   "mimetype": "text/x-python",
   "name": "python",
   "nbconvert_exporter": "python",
   "pygments_lexer": "ipython3",
   "version": "3.7.3"
  }
 },
 "nbformat": 4,
 "nbformat_minor": 4
}
