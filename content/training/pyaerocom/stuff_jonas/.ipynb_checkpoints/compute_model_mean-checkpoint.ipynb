{
 "cells": [
  {
   "cell_type": "code",
   "execution_count": 24,
   "metadata": {},
   "outputs": [
    {
     "name": "stderr",
     "output_type": "stream",
     "text": [
      "Initiating directories for pyaerocom test dataset\n"
     ]
    }
   ],
   "source": [
    "import pyaerocom as pya\n",
    "\n",
    "pya.const.BASEDIR = '/home/notebook/shared-ns1000k/inputs/pyaerocom-testdata/'\n",
    "\n",
    "YEAR = 2010\n",
    "VAR_NAME = 'od550aer'\n",
    "MODEL_IDS = ['ECHAM6.3-HAM2.3-met2010_AP3-CTRL', 'CAM5-ATRAS_AP3-CTRL', 'CAM6-Oslo_NHIST_f19_tn14_20190710_2010']"
   ]
  },
  {
   "cell_type": "code",
   "execution_count": 25,
   "metadata": {},
   "outputs": [],
   "source": [
    "data = []\n",
    "for model in MODEL_IDS:\n",
    "    data.append(pya.io.ReadGridded(model).read_var(VAR_NAME, start=YEAR, ts_type='monthly'))"
   ]
  },
  {
   "cell_type": "code",
   "execution_count": 26,
   "metadata": {},
   "outputs": [
    {
     "data": {
      "text/plain": [
       "[18432, 13824]"
      ]
     },
     "execution_count": 26,
     "metadata": {},
     "output_type": "execute_result"
    }
   ],
   "source": [
    "num_gp = []\n",
    "for mod in data:\n",
    "    num_gp.append(len(mod.longitude.points) * len(mod.latitude.points))\n",
    "num_gp"
   ]
  },
  {
   "cell_type": "code",
   "execution_count": 27,
   "metadata": {},
   "outputs": [
    {
     "data": {
      "text/plain": [
       "pyaerocom.GriddedData\n",
       "Grid data: <iris 'Cube' of Ambient Aerosol Optical Thickness at 550 nm / (1) (time: 12; latitude: 96; longitude: 192)>"
      ]
     },
     "execution_count": 27,
     "metadata": {},
     "output_type": "execute_result"
    }
   ],
   "source": [
    "data[0]"
   ]
  },
  {
   "cell_type": "code",
   "execution_count": 28,
   "metadata": {},
   "outputs": [
    {
     "data": {
      "text/plain": [
       "pyaerocom.GriddedData\n",
       "Grid data: <iris 'Cube' of ambient aerosol optical thickness at 550 nm / (1) (time: 12; latitude: 96; longitude: 144)>"
      ]
     },
     "execution_count": 28,
     "metadata": {},
     "output_type": "execute_result"
    }
   ],
   "source": [
    "data[1]"
   ]
  },
  {
   "cell_type": "code",
   "execution_count": 29,
   "metadata": {},
   "outputs": [],
   "source": [
    "data_sorted = [x for _,x in sorted(zip(num_gp,data))]"
   ]
  },
  {
   "cell_type": "code",
   "execution_count": 30,
   "metadata": {},
   "outputs": [
    {
     "data": {
      "text/plain": [
       "pyaerocom.GriddedData\n",
       "Grid data: <iris 'Cube' of ambient aerosol optical thickness at 550 nm / (1) (time: 12; latitude: 96; longitude: 144)>"
      ]
     },
     "execution_count": 30,
     "metadata": {},
     "output_type": "execute_result"
    }
   ],
   "source": [
    "data_sorted[0]"
   ]
  },
  {
   "cell_type": "code",
   "execution_count": 31,
   "metadata": {},
   "outputs": [
    {
     "data": {
      "text/plain": [
       "pyaerocom.GriddedData\n",
       "Grid data: <iris 'Cube' of Ambient Aerosol Optical Thickness at 550 nm / (1) (time: 12; latitude: 96; longitude: 192)>"
      ]
     },
     "execution_count": 31,
     "metadata": {},
     "output_type": "execute_result"
    }
   ],
   "source": [
    "data_sorted[1]"
   ]
  },
  {
   "cell_type": "code",
   "execution_count": 32,
   "metadata": {},
   "outputs": [],
   "source": [
    "base_model = data_sorted.pop(0)"
   ]
  },
  {
   "cell_type": "code",
   "execution_count": 33,
   "metadata": {},
   "outputs": [
    {
     "data": {
      "text/plain": [
       "[pyaerocom.GriddedData\n",
       " Grid data: <iris 'Cube' of Ambient Aerosol Optical Thickness at 550 nm / (1) (time: 12; latitude: 96; longitude: 192)>]"
      ]
     },
     "execution_count": 33,
     "metadata": {},
     "output_type": "execute_result"
    }
   ],
   "source": [
    "data_sorted"
   ]
  },
  {
   "cell_type": "code",
   "execution_count": 34,
   "metadata": {},
   "outputs": [],
   "source": [
    "for md in data_sorted:\n",
    "    base_model = md.regrid(base_model)"
   ]
  }
 ],
 "metadata": {
  "kernelspec": {
   "display_name": "Python 3",
   "language": "python",
   "name": "python3"
  },
  "language_info": {
   "codemirror_mode": {
    "name": "ipython",
    "version": 3
   },
   "file_extension": ".py",
   "mimetype": "text/x-python",
   "name": "python",
   "nbconvert_exporter": "python",
   "pygments_lexer": "ipython3",
   "version": "3.7.3"
  }
 },
 "nbformat": 4,
 "nbformat_minor": 4
}
