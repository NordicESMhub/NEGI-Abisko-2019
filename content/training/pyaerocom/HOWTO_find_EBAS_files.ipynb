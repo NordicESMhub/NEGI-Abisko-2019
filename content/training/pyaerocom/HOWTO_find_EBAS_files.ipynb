{
 "cells": [
  {
   "cell_type": "markdown",
   "metadata": {},
   "source": [
    "# How to find EBAS NASA Ames files for a certain request \n",
    "\n",
    "**NOTE:** the EBAS data provided under `pyaerocom-testdata/obsdata/EBASMultiColumn` is only a subset of the data that is available in the [EBAS database](http://ebas.nilu.no/). So you may not find some data files that are available online (e.g. matrix *met* is not available here). If you do not find the file in the provided data, you have to download the files yourself from the EBAS database and follow the instructions provided in [HOWTO_read_EBAS_files](./HOWTO_read_EBAS_files.ipynb)."
   ]
  },
  {
   "cell_type": "code",
   "execution_count": 2,
   "metadata": {},
   "outputs": [
    {
     "data": {
      "text/plain": [
       "'0.8.1.dev3'"
      ]
     },
     "execution_count": 2,
     "metadata": {},
     "output_type": "execute_result"
    }
   ],
   "source": [
    "import pyaerocom as pya\n",
    "pya.__version__"
   ]
  },
  {
   "cell_type": "code",
   "execution_count": 3,
   "metadata": {},
   "outputs": [
    {
     "name": "stderr",
     "output_type": "stream",
     "text": [
      "Initiating directories for pyaerocom test dataset\n"
     ]
    }
   ],
   "source": [
    "pya.const.BASEDIR = '/home/notebook/shared-ns1000k/inputs/pyaerocom-testdata/'"
   ]
  },
  {
   "cell_type": "markdown",
   "metadata": {},
   "source": [
    "## With the EbasSQLRequest class you can specify which data files you want to retrieve"
   ]
  },
  {
   "cell_type": "code",
   "execution_count": 4,
   "metadata": {},
   "outputs": [],
   "source": [
    "sql_db = pya.io.EbasFileIndex()"
   ]
  },
  {
   "cell_type": "markdown",
   "metadata": {},
   "source": [
    "### All station names that are in EBAS"
   ]
  },
  {
   "cell_type": "code",
   "execution_count": 5,
   "metadata": {},
   "outputs": [
    {
     "name": "stdout",
     "output_type": "stream",
     "text": [
      "['Abastumani', 'Acadia National Park-McFarland Hill (ME98)', 'Achenkirch', 'Addison Pinnacle', 'Agia Marina Xyliatou / Cyprus Atmospheric Observatory', 'Agua Tibia', 'Alert', 'Alfragide', 'Algoma', 'Aliartos', 'Aluksne', 'Amberd', 'Ambler', 'Ammarnäs', 'Andøya', 'Angra do Heroismo', 'Anholt', 'Anmyeon-do', 'Annaberg-Buchholz', 'Ansbach', 'Appalachian State University, Boone (NC)', 'Appelscha', 'Arabba', 'Arendtsville (PA00)', 'Arkona', 'Arrival Heights', 'Arup', 'Asa', 'Aspvreten', 'Aston Hill', 'Atlanta', 'Aubur', 'Auchencorth Moss', 'Aukrug', 'BEO Moussala', 'Bad Kreuznach', 'Badlands NP', 'Baltimore', 'Banchory', 'Bandelier NM', 'Bandung', 'Bangkok', 'Banryu', 'Barcarrota', 'Barcombe Mills', 'Baring Head', 'Barrow', 'Bassum', 'Bay dEspoir B', 'Beregovo', 'Beromünster', 'Big Bend National Park-K-Bar (TX04)', 'Bilthoven', 'Birkenes', 'Birkenes II', 'Birmingham', 'Bjørnøya', 'Bliss SP (TRPA)', 'Blue Mounds', 'Bokn', 'Bondville', 'Bondville (IL11)', 'Bonner Lake', 'Bonnevaux', 'Borovoe', 'Bosque del Apache', 'Boulder Table Mountain', 'Boundary Waters Canoe Area', 'Braganca', 'Bratts Lake', 'Bredene', 'Bredkälen', 'Brekkebygda', 'Brennilis', 'Breton', 'Bridger Wilderness', 'Bridgton (ME02)', 'Brigantine NWR', 'Brooklyn Lake', 'Brotjacklriegel', 'Brugge', 'Bryce Canyon National Park-Repeater Hill (UT99)', 'Bukit Kototabang', 'Burnt Island', 'Bush', 'Bösel', 'CEH Edingburgh', 'Cabauw Wielsekade', 'Cabauw Zijdeweg', 'Cabinet Mountains', 'Cabo de Creus', 'Cadiz', 'Cairo', 'Campisabalos', 'Can Llompart', 'Caney Creek', 'Canterbury', 'Canyonlands NP', 'Cape Cod', 'Cape Grim', 'Cape Point', 'Cape Romain National Wildlife Refuge', 'Cape San Juan', 'Cape Verde Atmospheric Observatory', 'Capitol Reef NP', 'Capo Granitola', 'Carnsore Point', \"Casco Bay-Wolfe's Neck Farm (ME96)\", 'Cedar Bluff', 'Chalk River', 'Chapais', 'Charlton Mackrell', 'Chassahowitzka National Wildlife Refuge (FL05)', 'Chaumont', 'Cheju', 'Cherokee Nation', 'Chicago', 'Chilbolton Observatory', 'Chillerton', 'Chiricahua (AZ98)', 'Chongqing-Guanyinqiao', 'Chongqing-Jinyunshan', 'Chopok', 'Churanov', 'Cloud Peak', 'Cohutta', 'Coles Island', 'Columbia Gorge #1', 'Columbia River Gorge', 'Concordia, Dôme C', 'Connecticut Hill', 'Crater Lake NP', 'Craters of the Moon National Monument (ID03)', 'Crescent Lake', 'Cubuk II', 'DEM_Athens', 'Dalelva', 'Danki', 'Danum Valley', 'De Zilk', 'Death Valley NP', 'Denali National Park-Mt. McKinley (AK03)', 'Detroit', 'Deuselbach', 'Diabla Gora', 'Dobele', 'Dolly Sods Wilderness', 'Dome Lands Wilderness', 'Donon', 'Douglas', 'Doñana', 'Driby', 'Dunkelsteinerwald', 'ELA', 'East Ruston', 'East Trout Lake', 'Egbert', 'Eibergen', 'Ekeröd', 'El Arenosillo', 'El Dorado Springs', 'El Tololo', 'Ellis', 'Els Torms', 'Eskdalemuir', 'Esrange', 'Esther', 'Eupen', 'Eureka', 'Everglades National Park-Research Center (FL11)', 'Fagernes', 'Falkenberg', 'Farafra', 'Farkasfa', 'Faro', 'Finokalia', 'Fitjar', 'Flathead', 'Foia', 'Forsthof', 'Fort Peck (IMPROVE)', 'Frederiksborg', 'Frelighsburg', 'Fresno', 'Frihetsli', 'Frostberg Reservoir (Big Piney Run)', 'Fundata', 'Fundy NP', 'Færøerne-Akraberg', 'Førde', 'Gates of the Mountains', 'Gerlitzen', 'Gila Cliff Dwellings National Monument (NM01)', 'Giordan Lighthouse', 'Gismarvik', 'Glacier National Park-Fire Weather Station (MT05)', 'Glen Dye', 'Glen Saugh', 'Glenveagh', 'Goonhilly', 'Goose Bay B', 'Gornitak', 'Gosan', 'Granada', 'Graz Lustbuehel', 'Graz Platte', 'Great Basin National Park-Lehman Caves (NV05)', 'Great Dun Fell', 'Great Gulf Wilderness', 'Great River Bluffs', 'Great Sand Dunes NM', 'Great Smoky Mountains NP', 'Grebenzen bei St. Lamprecht', 'Grimsö', 'Grubhei', 'Guadalupe Mountains NP', 'Gual Pahari', 'Guipry', 'Gulsvik', 'Gänserndorf', 'Gårdsjön', 'Haapasaari', 'Hailuoto', 'Hailuoto II', 'Haleakala NP', 'Hallahus', 'Halley', 'Hance Camp at Grand Canyon NP', 'Hanoi', 'Happo', 'Harcourt B', 'Harwell', 'Haukeland', 'Haukenes', 'Haunsberg', 'Hawaii Volcanoes NP', 'Hedo', 'Heidenreichstein', 'Heigham Holmes', 'Hells Canyon', 'Helmos Mountain', 'Hercules-Glades', 'Hietajärvi', 'High Muffles', 'Hillside', 'Hoa Binh', 'Hoburgen', 'Hof', 'Hohenpeissenberg', 'Hohenwestedt', 'Holtville', 'Hoover', 'Houston', 'Houtem', 'Hummelfjell', 'Hurdal', 'Hurghada', 'Hyytiälä', 'Høylandet', 'ISAC Bologna', 'Ijira', \"Ike's Backbone\", 'Illmitz', 'Imsil', 'Indian Gardens', 'Irafoss', 'Iraty', 'Irkutsk', 'Iskrba', 'Isle Royale NP', 'Ispra', 'Ivan Sedlo', 'Izana', 'Jackson', 'Jakarta', 'James River Face Wilderness', 'Jan_van_Galenstraat', 'Janiskoski', 'Jarbidge Wilderness', 'Jarczew', 'Jeløya', 'Jergul', 'Johnstown Castle', 'Joshua Tree National Park-Black Rock', 'Jungfraujoch', 'K-puszta', 'Kaiser', 'Kalmiopsis', 'Kamenicki vis', 'Kanghwa', 'Karasjok', 'Karpbukt', 'Karpdalen', 'Kaupanger', 'Kecskemét', 'Kejimkujik', 'Keldsnor', 'Kemeri', 'Kevo', 'Kise', 'Kjeller (NILU)', 'Klyve', 'Knardalstrand', 'Knokke', 'Koksijde', 'Kollumerwaard', 'Kosetice (NOAK)', 'Kotinen', 'Kovk', 'Krvavec', 'Kårvatn', 'Kårvatn 2', 'LG4', 'La Cartuja', 'La Coulonche', 'La Crouzille', 'La Hague', 'La Quiaca', 'La Réunion - Maïdo atmospheric observatory', 'La Tardière', 'Lac Edouard', 'Ladybower Res.', 'Lahemaa', 'Lake Sugema 1', 'Lake Sugema 2', 'Lakewood Heights', 'Lamezia Terme', 'Lampedusa', 'Langavatnet', 'Langesund', 'Langtjern', 'Lardal', 'Lassen Volcanic National Park-Manzanita Lake', 'Lauder', 'Lava Beds NM', 'Lazaropole', 'Le Casset', 'Leba', 'Lecce (ECO)', 'Lecce (University of Salento)', 'Leipzig', 'Leipzig-Eisenbahnstrasse', 'Leipzig-Mitte', 'Leipzig-West', 'Leova', 'Leova II', 'Lerwick', 'Lesnoy', 'Lesogorsky', 'Liesek', 'Lille Valby', 'Linville Gorge', 'Lista', 'Listvyanka', 'Livadi', 'Livonia', 'Lodeve', 'Logroño', 'Lone Peak Wilderness', 'Longwoods', 'Los Banos', 'Lostwood', 'Lough Erne', 'Lough Navar', 'Ludlow', 'Lulin', 'Lullington Heath', 'Lye Brook Wilderness', 'Løken', 'Lückendorf', 'M.K. Goddard', 'Mace Head', 'Mae Hia - Chiang Mai', 'Mahón', 'Makah Tribe', 'Malin Head', 'Mammoth Cave National Park-Houchin Meadow', 'Marambio', 'Market Harborough', 'Marsa Matruh', 'Marten River', \"Martha's Vineyard\", 'Masenberg', 'Masun', 'Mauna Loa', 'Mauna Loa Observatory #1/2', 'Meadview', 'Medicine Lake', 'Meinerzhagen', 'Melpitz', 'Mesa Verde National Park-Chapin Mesa (CO99)', 'Metro Manila', 'Minamitorishima', 'Mingan', 'Mingo', 'Moerkerke', 'Mohawk Mt.', 'Mondy', 'Montandon', 'Monte Martano', 'Monte Velho', 'Montelibretti', 'Montfranc', 'Montsec', 'Montseny', 'Monture', 'Moosehorn NWR', 'Morvan', 'Mount Baldy', 'Mount Chacaltaya', 'Mount Hood', 'Mount Rainier National Park-Tahoma Woods (WA99)', 'Mount Zirkel Wilderness', 'Mt Cimone', 'Mt. Kenya', 'Murnauer Moos', 'Møsvatn', 'NN', 'Namsvatn', 'Narberth', 'Narbuvoll', 'National Capitol - Central, Washington D.C', 'Nausta', 'Nebraska NF', 'Nepal Climate Observatory - Pyramid', 'Neuglobsow', 'Neumayer', 'New York City', 'Nictau', 'Nida', 'Niembro', 'Niwot Ridge - T-van', 'Njåskog', 'Noatun', 'Noia', 'Nordmoen', 'Norra-Kvill', 'North Absaroka', 'North Cascades', 'Northern Cheyenne', 'Norunda Stenen', 'Ny-Ålesund', 'Ny-Ålesund - Gruvebadet', 'Ny-Ålesund - Nordpolhotellet', 'Ny-Ålesund - Transformatorbua', 'O Saviñao', 'Oak Park', \"Observatoire Perenne de l'Environnement\", 'Ochiishi', 'Offagne', 'Ogasawara', 'Okefenokee National Wildlife Refuge (GA09)', 'Oki', 'Old Town', 'Olympic', 'Omaha', 'Oostende', 'Organ Pipe Cactus National Monument', 'Osen', 'Oulanka', 'Overtoom', 'Pallas (Matorova)', 'Pallas (Sammaltunturi)', 'Paring', 'Pasayten', 'Patumthani', 'Payerne', 'Pedersker', 'Penausende', 'Penn State (NADP)', 'Pennfield', 'Pesosjärvi', 'Petalling Jaya', 'Petersburg', 'PetitPaquetville', 'Petrified Forest NP', 'Petrified Forest NP - Dry Wash', 'Peyrusse Vieille', 'Pha Din', 'Phnom Penh', 'Phoenix', 'Phoenix Colocated Sampler', 'Pic du Midi', 'Pickle Lake B', 'Pilar', 'Pillersdorf bei Retz', 'Pinega', 'Pinnacles National Monument-Bear Valley (CA66)', 'Pittsburgh', 'Poiana Stampei', 'Point Reyes National Seashore', 'Porspoder', 'Preila', 'Presque Isle', 'Prestebakke', 'Primorskaya', 'Proctor Maple R. F.', 'Puget Sound', 'Puntijarka', 'Pushkinskie Gory', 'Puy de Dôme', 'Quabbin Summit', 'Quaker City', 'Queen Valley', 'Ragged Point', 'Raisting', 'Ramnes', 'Rarau', 'Rava-Russkaya', 'Redwood NP', 'Rekken', 'Revin', 'Reykjavik', 'Rickleå', 'Ridge of Capard', 'Riga', 'Rigi', 'Ring_A10_Zuid', 'Risco Llamo', 'Risdalsheia', 'Rishiri', 'Risoe', 'Robertville', 'Rocky Mountain NP', 'Rocky Mountain NP HQ', 'Rodenberg', 'Rojen peak', 'Roquetas', 'Rottenburg', 'Rubidoux', 'Rucava', 'Ryori', 'Råö', 'Rörvik', 'SIRTA Atmospheric Research Observatory', 'Sable Island', 'Sac and Fox', 'Sado-seki', 'Saguaro NM', 'Saguaro NM - Tucson Mountain #1', 'Saguaro West', 'Saint-Nazaire-le-Désert', 'Salmon NF', 'Salt Creek', 'Samutprakarn', 'San Gabriel', 'San Gorgonio Wilderness', 'San Pablo de los Montes', 'San Pedro Parks', 'San Rafael', 'Sandve', 'Sandvik', 'Saturna', 'Sawtooth NF', 'Schauinsland', 'Schmücke', 'Schorfheide', 'Selbu', 'Semenic', 'Seney', 'Seney NWR', 'Sepstrup Sande', 'Sequoia NP', 'Serpong', 'Shamrock Mine', 'Shenandoah National Park-Big Meadows (VA28)', 'Shepeljovo', 'Shining Rock Wilderness', 'Sibton', 'Sierra Ancha', 'Sikes', 'Simeonof', 'Sion', 'Sipsy Wilderness', 'Skreådalen', 'Skriveri', 'Sniezka', 'Snoqualmie Pass', 'Solem', 'Solhomfjell', 'Somerton', 'Sonnblick', 'South Oromocto', 'South Pole', 'Southern Great Plains E13', 'Spokane Res.', 'Sprucedale', 'St. Koloman', 'St. Marks', 'St. Maure', 'St. Osyth', 'Starina', 'Starkey Experimental Forest (OR18)', 'Starnberg', 'Stará Lesná', 'Staxton Wold', 'Steamboat Springs, Colorado (Storm Peak Laboratory)', 'Stelvio', 'Stina de Vale', 'Stixneusiedl', 'Stoke Ferry', 'Stolzalpe bei Murau', 'Storebaelt', 'Storhofdi', 'Storulvsjöen', 'Strath Vaich Dam', 'Sula Peak', 'Sulzberg', 'Summit', 'Sutton', 'Suwalki', 'Svanvik', 'Svartedalen', 'Svityaz', 'Svratouch', 'Swanquarter', 'Sycamore Canyon', 'Syowa', 'Syrve', 'Sännen', 'Søgne', 'Søgne 1', 'Tallgrass', 'Tanah Rata', 'Tange', 'Tangen', 'Tappi', 'Tateno', 'Terelj', 'Terningvatn', 'The Burren', 'Theodore Roosevelt National Park-Painted Canyon', 'Three Sisters Wilderness', 'Thunder Basin', 'Tiksi', 'Tjeldbergodden', 'Tonto NM', 'Topolniky', 'Toronto', 'Trapper Creek', 'Treungen', 'Trinidad Head', 'Trinity', 'Troll', 'Trollhaugen', 'Trout Brook', 'Tudor Hill (Bermuda)', 'Turia', 'Turlough Hill', 'Tustervatn', 'Tuxedni', 'Tveitdalen', 'Tänikon', 'UL Bend', 'Ualand', 'Ueckermünde', 'Ulaanbaatar', 'Ulborg', 'University of Gent', 'Upper Buffalo Wilderness', 'Ushuaia', 'Usingen', 'Utö', 'Vachiralongkorn Dam - Khanchanaburi', 'Valdalen', 'Valduc', 'Valentia Observatory', 'Valle', 'Vallombrosa', 'Vatnedalen', 'Vavihill', 'Velen', 'Verneuil', 'Vert-le-Petit', 'Vezin', 'Viana do Castelo', 'Vientian', 'Vikedal', 'Viking Lake', 'Villum Research Station, Station Nord', 'Vilsandi', 'Vindeln', 'Virgin Islands National Park-Lind Point (VI01)', 'Virolahti', 'Virolahti II', 'Virolahti III', 'Vorhegg', 'Voss', 'Voyageurs NP #2', 'Vredepeel', 'Vuoskojärvi', 'Vysokoe', 'Vårli', 'Víznar', 'Waldhof', 'Walker River Paiute Tribe', 'Warsaw Caves', 'Washington D.C.', 'Weminuche Wilderness', 'Westerland', 'Westport', 'Weybourne', 'Wharley Croft', 'Wheeler Peak', 'Whistler Mountain', 'White Mountain', 'White Pass', 'White River NF', 'Wichita Mountains', 'Wicken Fen', 'Wiesenburg', 'Wind Cave National Park-Elk Mountain', 'Witteveen', 'Xiamen-Hongwen', 'Xiamen-Xiaopin', 'Xian-Jiwozi', 'Xian-Shizhan', 'Xian-Weishuiyuan', 'Yarner Wood', 'Yellowstone NP 1', 'Yonaguni', 'Yosemite NP', 'Yusuhara', 'Zabljak', 'Zarodnje', 'Zarra', 'Zavizan', 'Zeppelin mountain (Ny-Ålesund)', 'Zhuhai-Xiang Zhou', 'Zhuhai-Zhuxiandong (Zhuxian Cavern)', 'Zielonka', 'Zillertaler Alpen', 'Zingst', 'Zion', 'Zion Canyon', 'Zoebelboden', 'Zoseni', 'Zugspitze-Gipfel', 'Zugspitze-Schneefernerhaus', 'Ähtäri', 'Ähtäri II', 'Åmotsdalen', 'Årvik2', 'Öhringen', 'Östad', 'Øverbygd', 'Ústí n.L.-mesto']\n"
     ]
    }
   ],
   "source": [
    "print(sorted(sql_db.ALL_STATION_NAMES))"
   ]
  },
  {
   "cell_type": "code",
   "execution_count": 6,
   "metadata": {},
   "outputs": [
    {
     "name": "stdout",
     "output_type": "stream",
     "text": [
      "['precipitation_amount', 'acidity', 'ammonium', 'nitrate', 'pH', 'sulphate_total', 'sulphur_dioxide', 'ozone', 'chloride', 'conductivity', 'sulphate_corrected', 'calcium', 'magnesium', 'sodium', 'potassium', 'nitrogen_dioxide', 'equivalent_black_carbon', 'flow_rate', 'temperature', 'bromide', 'cadmium', 'lead', 'ammonia', 'nitric_acid', 'copper', 'iron', 'manganese', 'arsenic', 'chromium', 'nickel', 'zinc', 'selenium', 'sum_ammonia_and_ammonium', 'sum_nitric_acid_and_nitrate', 'vanadium', 'nitrogen_monoxide', 'mercury', 'susp_part_matter', 'precipitation_amount_off', 'elemental_carbon', 'cobalt', 'aluminium', 'pressure', 'relative_humidity', 'aerosol_light_scattering_coefficient', 'pm10_mass', 'organic_carbon', 'total_carbon', 'pm25_mass', 'aldrin', 'alpha_HCH', 'dieldrin', 'endrin', 'gamma_HCH', 'heptachlor', 'pp_DDD', 'pp_DDE', 'pp_DDT', 'aerosol_absorption_coefficient', 'aerosol_light_backscattering_coefficient', 'acetate', 'ammonium_nitrate', 'fluoride', 'formate', 'methansulphonate', 'oxalate', 'carbon_monoxide', 'titanium', 'wind_speed', 'pm1_mass', 'organic_mass', 'pm10_pm25_mass', 'phosphorus', 'organic_carbon_corrected', 'total_carbon_corrected', 'manganium', 'hydrochloric_acid', 'antimony', 'thallium', 'dinitrogen_monoxide', 'molybdenum', 'strontium', 'benzo_a_pyrene', 'NOx', 'barium', 'bismuth', 'cerium', 'lanthanum', 'lithium', 'rubidium', 'thorium', 'tin', 'uranium', 'beryllium', 'carbonate', 'cesium', 'dysprosium', 'erbium', 'europium', 'gadolinium', 'gallium', 'germanium', 'hafnium', 'holmium', 'lutetium', 'neodymium', 'praseodymium', 'samarium', 'scandium', 'silicon', 'tantalum', 'terbium', 'thulium', 'tungsten', 'ytterbium', 'yttrium', 'zirconium', 'niobium', 'nitrous_acid', 'phosphate', 'methanesulfonic_acid', 'equivalent_black_carbon_mass', 'benz_a_anthracene', 'benzo_b_fluoranthene', 'benzo_k_fluoranthene', 'dibenzo_ah_anthracene', 'inden_123cd_pyrene', 'acetic_acid', 'formic_acid', 'hydrogen', '1234678_HpCDD', '1234678_HpCDF', '1234789_HpCDF', '123478_HxCDD', '123478_HxCDF', '123678_HxCDD', '123678_HxCDF', '123789_HxCDD', '123789_HxCDF', '12378_PeCDD', '12378_PeCDF', '234678_HxCDF', '23478_PeCDF', '2378_TCDD', '2378_TCDF', 'HCB', 'OCDD', 'OCDF', 'PCB_101', 'PCB_105', 'PCB_114', 'PCB_118', 'PCB_123', 'PCB_126', 'PCB_128', 'PCB_153', 'PCB_156', 'PCB_157', 'PCB_167', 'PCB_169', 'PCB_170', 'PCB_180', 'PCB_189', 'PCB_28', 'PCB_31', 'PCB_52', 'PCB_77', 'PCB_81', 'acenaphthene', 'acenaphthylene', 'alpha_endosulfan', 'anthracene', 'benzo_ghi_perylene', 'beta_endosulfan', 'chrysene', 'delta_HCH', 'fluoranthene', 'fluorene', 'heptachlorepoxide', 'naphthalene', 'phenanthrene', 'pyrene', 'mineral_dust', 'attenuation_coefficient', 'bypass_fraction', 'reference_beam_signal', 'reference_zero_signal', 'sensing_beam_signal', 'sensing_zero_signal', 'benzo_bj_fluoranthenes', 'fluorantene', 'benzo_j_fluoranthene', 'levoglucosan', 'aluminium_27', 'iron_57', 'nickel_60', 'nickel_58', 'ruthenium', 'carbon_dioxide', 'methane', 'water_vapor', 'benzo_bjk_fluoranthenes', 'indeno_123cd_perylene', 'galactosan', 'mannosan']\n"
     ]
    }
   ],
   "source": [
    "print(sql_db.ALL_VARIABLES)"
   ]
  },
  {
   "cell_type": "code",
   "execution_count": 13,
   "metadata": {},
   "outputs": [
    {
     "name": "stdout",
     "output_type": "stream",
     "text": [
      "['precip', 'aerosol', 'air', 'air+aerosol', 'instrument', 'pm10', 'pm25', 'pm10_pm25', 'pm1', 'met', 'wetdep', 'pm10_non_volatile', 'pm10_volatile', 'pm25_non_volatile', 'pm25_volatile']\n"
     ]
    }
   ],
   "source": [
    "print(sql_db.ALL_MATRICES)"
   ]
  },
  {
   "cell_type": "markdown",
   "metadata": {},
   "source": [
    "## With the EbasSQLRequest class you can specify which data files you want to retrieve"
   ]
  },
  {
   "cell_type": "code",
   "execution_count": 22,
   "metadata": {},
   "outputs": [
    {
     "data": {
      "text/plain": [
       "EbasSQLRequest([('variables', None),\n",
       "                ('start_date', None),\n",
       "                ('stop_date', None),\n",
       "                ('station_names', None),\n",
       "                ('matrices', None),\n",
       "                ('altitude_range', None),\n",
       "                ('lon_range', None),\n",
       "                ('lat_range', None),\n",
       "                ('instrument_types', None),\n",
       "                ('statistics', None),\n",
       "                ('datalevel', None)])"
      ]
     },
     "execution_count": 22,
     "metadata": {},
     "output_type": "execute_result"
    }
   ],
   "source": [
    "file_request = pya.io.EbasSQLRequest()\n",
    "file_request"
   ]
  },
  {
   "cell_type": "markdown",
   "metadata": {},
   "source": [
    "All these parameters may be used to narrow down your search. Let's find scattering data at Zeppelin station in Svalbard:"
   ]
  },
  {
   "cell_type": "code",
   "execution_count": 31,
   "metadata": {},
   "outputs": [],
   "source": [
    "file_request['station_names'] = 'Zeppelin mountain (Ny-Ålesund)'\n",
    "file_request['matrices'] = ['aerosol', 'pm10']\n",
    "file_request['variables'] = 'aerosol_light_scattering_coefficient'"
   ]
  },
  {
   "cell_type": "code",
   "execution_count": 32,
   "metadata": {},
   "outputs": [
    {
     "data": {
      "text/plain": [
       "['NO0042G.20100101000000.20150216111241.nephelometer..pm10.1y.1h.SE02L_TSI_3563_ZEP_dry.SE02L_scat_coef.lev2.nas',\n",
       " 'NO0042G.20110101000000.20150216111241.nephelometer..pm10.1y.1h.SE02L_TSI_3563_ZEP_dry.SE02L_scat_coef.lev2.nas',\n",
       " 'NO0042G.20120101000000.20150216111241.nephelometer..pm10.1y.1h.SE02L_TSI_3563_ZEP_dry.SE02L_scat_coef.lev2.nas',\n",
       " 'NO0042G.20130101000000.20150216111241.nephelometer..pm10.1y.1h.SE02L_TSI_3563_ZEP_dry.SE02L_scat_coef.lev2.nas']"
      ]
     },
     "execution_count": 32,
     "metadata": {},
     "output_type": "execute_result"
    }
   ],
   "source": [
    "sql_db.get_file_names(file_request)"
   ]
  },
  {
   "cell_type": "markdown",
   "metadata": {},
   "source": [
    "That's it. See also: [HOWTO_read_EBAS_files](./HOWTO_read_EBAS_files.ipynb)"
   ]
  }
 ],
 "metadata": {
  "kernelspec": {
   "display_name": "Python 3",
   "language": "python",
   "name": "python3"
  },
  "language_info": {
   "codemirror_mode": {
    "name": "ipython",
    "version": 3
   },
   "file_extension": ".py",
   "mimetype": "text/x-python",
   "name": "python",
   "nbconvert_exporter": "python",
   "pygments_lexer": "ipython3",
   "version": "3.7.3"
  }
 },
 "nbformat": 4,
 "nbformat_minor": 4
}
