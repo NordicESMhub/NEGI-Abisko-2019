{
 "cells": [
  {
   "cell_type": "markdown",
   "metadata": {},
   "source": [
    "# Create nconcoa dataset for NorESM and UKESM:"
   ]
  },
  {
   "cell_type": "markdown",
   "metadata": {},
   "source": [
    "# Startpoint compare concoa to observations. \n",
    "**OBS**: this assumes the surface pressure is good enough as an approximation for the bottom layer in the model. This could of cource be questioned (but for comparison with observations I think it makes a lot of sense). \n",
    "\n",
    "**OBS2**: There is no guaranty this will work with all models as it requires that they already have variables ps, tas and whatever mmr variable you want. In addition there might be unknowns in the file format.\n",
    "\n",
    "\n",
    "\n",
    "This notebook calculates nconcoa ($\\mu g/m^3$) from the mass mixing ratios in NorESM/UKESM. \n",
    "The cmip6 data is in mass mixing ratio (mmroa) kg/kg. The aerocom variable is in $\\mu g/m3$.\n",
    "\n",
    "$$mmr \\cdot \\rho_{air} \\cdot 10^9 = concoa$$\n",
    "\n",
    "because\n",
    "\n",
    "$$ [kg/kg_{air}] \\cdot [kg_{air}/m^3] \\cdot [\\mu g][kg] = [\\mu g/m^3] $$\n",
    "\n",
    "We calculate $\\rho_{air}$ by the ideal gas equation:\n",
    "$$\\rho_{air} = RT/p$$\n",
    "where $\\rho_{air}$ is the air density, $R$ is the gas constant for dry air and $p$ is the pressure. "
   ]
  },
  {
   "cell_type": "code",
   "execution_count": 1,
   "metadata": {},
   "outputs": [
    {
     "data": {
      "text/html": [
       "\n",
       "    <div class=\"bk-root\">\n",
       "        <a href=\"https://bokeh.pydata.org\" target=\"_blank\" class=\"bk-logo bk-logo-small bk-logo-notebook\"></a>\n",
       "        <span id=\"1001\">Loading BokehJS ...</span>\n",
       "    </div>"
      ]
     },
     "metadata": {},
     "output_type": "display_data"
    },
    {
     "data": {
      "application/javascript": [
       "\n",
       "(function(root) {\n",
       "  function now() {\n",
       "    return new Date();\n",
       "  }\n",
       "\n",
       "  var force = true;\n",
       "\n",
       "  if (typeof root._bokeh_onload_callbacks === \"undefined\" || force === true) {\n",
       "    root._bokeh_onload_callbacks = [];\n",
       "    root._bokeh_is_loading = undefined;\n",
       "  }\n",
       "\n",
       "  var JS_MIME_TYPE = 'application/javascript';\n",
       "  var HTML_MIME_TYPE = 'text/html';\n",
       "  var EXEC_MIME_TYPE = 'application/vnd.bokehjs_exec.v0+json';\n",
       "  var CLASS_NAME = 'output_bokeh rendered_html';\n",
       "\n",
       "  /**\n",
       "   * Render data to the DOM node\n",
       "   */\n",
       "  function render(props, node) {\n",
       "    var script = document.createElement(\"script\");\n",
       "    node.appendChild(script);\n",
       "  }\n",
       "\n",
       "  /**\n",
       "   * Handle when an output is cleared or removed\n",
       "   */\n",
       "  function handleClearOutput(event, handle) {\n",
       "    var cell = handle.cell;\n",
       "\n",
       "    var id = cell.output_area._bokeh_element_id;\n",
       "    var server_id = cell.output_area._bokeh_server_id;\n",
       "    // Clean up Bokeh references\n",
       "    if (id != null && id in Bokeh.index) {\n",
       "      Bokeh.index[id].model.document.clear();\n",
       "      delete Bokeh.index[id];\n",
       "    }\n",
       "\n",
       "    if (server_id !== undefined) {\n",
       "      // Clean up Bokeh references\n",
       "      var cmd = \"from bokeh.io.state import curstate; print(curstate().uuid_to_server['\" + server_id + \"'].get_sessions()[0].document.roots[0]._id)\";\n",
       "      cell.notebook.kernel.execute(cmd, {\n",
       "        iopub: {\n",
       "          output: function(msg) {\n",
       "            var id = msg.content.text.trim();\n",
       "            if (id in Bokeh.index) {\n",
       "              Bokeh.index[id].model.document.clear();\n",
       "              delete Bokeh.index[id];\n",
       "            }\n",
       "          }\n",
       "        }\n",
       "      });\n",
       "      // Destroy server and session\n",
       "      var cmd = \"import bokeh.io.notebook as ion; ion.destroy_server('\" + server_id + \"')\";\n",
       "      cell.notebook.kernel.execute(cmd);\n",
       "    }\n",
       "  }\n",
       "\n",
       "  /**\n",
       "   * Handle when a new output is added\n",
       "   */\n",
       "  function handleAddOutput(event, handle) {\n",
       "    var output_area = handle.output_area;\n",
       "    var output = handle.output;\n",
       "\n",
       "    // limit handleAddOutput to display_data with EXEC_MIME_TYPE content only\n",
       "    if ((output.output_type != \"display_data\") || (!output.data.hasOwnProperty(EXEC_MIME_TYPE))) {\n",
       "      return\n",
       "    }\n",
       "\n",
       "    var toinsert = output_area.element.find(\".\" + CLASS_NAME.split(' ')[0]);\n",
       "\n",
       "    if (output.metadata[EXEC_MIME_TYPE][\"id\"] !== undefined) {\n",
       "      toinsert[toinsert.length - 1].firstChild.textContent = output.data[JS_MIME_TYPE];\n",
       "      // store reference to embed id on output_area\n",
       "      output_area._bokeh_element_id = output.metadata[EXEC_MIME_TYPE][\"id\"];\n",
       "    }\n",
       "    if (output.metadata[EXEC_MIME_TYPE][\"server_id\"] !== undefined) {\n",
       "      var bk_div = document.createElement(\"div\");\n",
       "      bk_div.innerHTML = output.data[HTML_MIME_TYPE];\n",
       "      var script_attrs = bk_div.children[0].attributes;\n",
       "      for (var i = 0; i < script_attrs.length; i++) {\n",
       "        toinsert[toinsert.length - 1].firstChild.setAttribute(script_attrs[i].name, script_attrs[i].value);\n",
       "      }\n",
       "      // store reference to server id on output_area\n",
       "      output_area._bokeh_server_id = output.metadata[EXEC_MIME_TYPE][\"server_id\"];\n",
       "    }\n",
       "  }\n",
       "\n",
       "  function register_renderer(events, OutputArea) {\n",
       "\n",
       "    function append_mime(data, metadata, element) {\n",
       "      // create a DOM node to render to\n",
       "      var toinsert = this.create_output_subarea(\n",
       "        metadata,\n",
       "        CLASS_NAME,\n",
       "        EXEC_MIME_TYPE\n",
       "      );\n",
       "      this.keyboard_manager.register_events(toinsert);\n",
       "      // Render to node\n",
       "      var props = {data: data, metadata: metadata[EXEC_MIME_TYPE]};\n",
       "      render(props, toinsert[toinsert.length - 1]);\n",
       "      element.append(toinsert);\n",
       "      return toinsert\n",
       "    }\n",
       "\n",
       "    /* Handle when an output is cleared or removed */\n",
       "    events.on('clear_output.CodeCell', handleClearOutput);\n",
       "    events.on('delete.Cell', handleClearOutput);\n",
       "\n",
       "    /* Handle when a new output is added */\n",
       "    events.on('output_added.OutputArea', handleAddOutput);\n",
       "\n",
       "    /**\n",
       "     * Register the mime type and append_mime function with output_area\n",
       "     */\n",
       "    OutputArea.prototype.register_mime_type(EXEC_MIME_TYPE, append_mime, {\n",
       "      /* Is output safe? */\n",
       "      safe: true,\n",
       "      /* Index of renderer in `output_area.display_order` */\n",
       "      index: 0\n",
       "    });\n",
       "  }\n",
       "\n",
       "  // register the mime type if in Jupyter Notebook environment and previously unregistered\n",
       "  if (root.Jupyter !== undefined) {\n",
       "    var events = require('base/js/events');\n",
       "    var OutputArea = require('notebook/js/outputarea').OutputArea;\n",
       "\n",
       "    if (OutputArea.prototype.mime_types().indexOf(EXEC_MIME_TYPE) == -1) {\n",
       "      register_renderer(events, OutputArea);\n",
       "    }\n",
       "  }\n",
       "\n",
       "  \n",
       "  if (typeof (root._bokeh_timeout) === \"undefined\" || force === true) {\n",
       "    root._bokeh_timeout = Date.now() + 5000;\n",
       "    root._bokeh_failed_load = false;\n",
       "  }\n",
       "\n",
       "  var NB_LOAD_WARNING = {'data': {'text/html':\n",
       "     \"<div style='background-color: #fdd'>\\n\"+\n",
       "     \"<p>\\n\"+\n",
       "     \"BokehJS does not appear to have successfully loaded. If loading BokehJS from CDN, this \\n\"+\n",
       "     \"may be due to a slow or bad network connection. Possible fixes:\\n\"+\n",
       "     \"</p>\\n\"+\n",
       "     \"<ul>\\n\"+\n",
       "     \"<li>re-rerun `output_notebook()` to attempt to load from CDN again, or</li>\\n\"+\n",
       "     \"<li>use INLINE resources instead, as so:</li>\\n\"+\n",
       "     \"</ul>\\n\"+\n",
       "     \"<code>\\n\"+\n",
       "     \"from bokeh.resources import INLINE\\n\"+\n",
       "     \"output_notebook(resources=INLINE)\\n\"+\n",
       "     \"</code>\\n\"+\n",
       "     \"</div>\"}};\n",
       "\n",
       "  function display_loaded() {\n",
       "    var el = document.getElementById(\"1001\");\n",
       "    if (el != null) {\n",
       "      el.textContent = \"BokehJS is loading...\";\n",
       "    }\n",
       "    if (root.Bokeh !== undefined) {\n",
       "      if (el != null) {\n",
       "        el.textContent = \"BokehJS \" + root.Bokeh.version + \" successfully loaded.\";\n",
       "      }\n",
       "    } else if (Date.now() < root._bokeh_timeout) {\n",
       "      setTimeout(display_loaded, 100)\n",
       "    }\n",
       "  }\n",
       "\n",
       "\n",
       "  function run_callbacks() {\n",
       "    try {\n",
       "      root._bokeh_onload_callbacks.forEach(function(callback) {\n",
       "        if (callback != null)\n",
       "          callback();\n",
       "      });\n",
       "    } finally {\n",
       "      delete root._bokeh_onload_callbacks\n",
       "    }\n",
       "    console.debug(\"Bokeh: all callbacks have finished\");\n",
       "  }\n",
       "\n",
       "  function load_libs(css_urls, js_urls, callback) {\n",
       "    if (css_urls == null) css_urls = [];\n",
       "    if (js_urls == null) js_urls = [];\n",
       "\n",
       "    root._bokeh_onload_callbacks.push(callback);\n",
       "    if (root._bokeh_is_loading > 0) {\n",
       "      console.debug(\"Bokeh: BokehJS is being loaded, scheduling callback at\", now());\n",
       "      return null;\n",
       "    }\n",
       "    if (js_urls == null || js_urls.length === 0) {\n",
       "      run_callbacks();\n",
       "      return null;\n",
       "    }\n",
       "    console.debug(\"Bokeh: BokehJS not loaded, scheduling load and callback at\", now());\n",
       "    root._bokeh_is_loading = css_urls.length + js_urls.length;\n",
       "\n",
       "    function on_load() {\n",
       "      root._bokeh_is_loading--;\n",
       "      if (root._bokeh_is_loading === 0) {\n",
       "        console.debug(\"Bokeh: all BokehJS libraries/stylesheets loaded\");\n",
       "        run_callbacks()\n",
       "      }\n",
       "    }\n",
       "\n",
       "    function on_error() {\n",
       "      console.error(\"failed to load \" + url);\n",
       "    }\n",
       "\n",
       "    for (var i = 0; i < css_urls.length; i++) {\n",
       "      var url = css_urls[i];\n",
       "      const element = document.createElement(\"link\");\n",
       "      element.onload = on_load;\n",
       "      element.onerror = on_error;\n",
       "      element.rel = \"stylesheet\";\n",
       "      element.type = \"text/css\";\n",
       "      element.href = url;\n",
       "      console.debug(\"Bokeh: injecting link tag for BokehJS stylesheet: \", url);\n",
       "      document.body.appendChild(element);\n",
       "    }\n",
       "\n",
       "    for (var i = 0; i < js_urls.length; i++) {\n",
       "      var url = js_urls[i];\n",
       "      var element = document.createElement('script');\n",
       "      element.onload = on_load;\n",
       "      element.onerror = on_error;\n",
       "      element.async = false;\n",
       "      element.src = url;\n",
       "      console.debug(\"Bokeh: injecting script tag for BokehJS library: \", url);\n",
       "      document.head.appendChild(element);\n",
       "    }\n",
       "  };var element = document.getElementById(\"1001\");\n",
       "  if (element == null) {\n",
       "    console.error(\"Bokeh: ERROR: autoload.js configured with elementid '1001' but no matching script tag was found. \")\n",
       "    return false;\n",
       "  }\n",
       "\n",
       "  function inject_raw_css(css) {\n",
       "    const element = document.createElement(\"style\");\n",
       "    element.appendChild(document.createTextNode(css));\n",
       "    document.body.appendChild(element);\n",
       "  }\n",
       "\n",
       "  var js_urls = [\"https://cdn.pydata.org/bokeh/release/bokeh-1.3.4.min.js\", \"https://cdn.pydata.org/bokeh/release/bokeh-widgets-1.3.4.min.js\", \"https://cdn.pydata.org/bokeh/release/bokeh-tables-1.3.4.min.js\", \"https://cdn.pydata.org/bokeh/release/bokeh-gl-1.3.4.min.js\"];\n",
       "  var css_urls = [];\n",
       "\n",
       "  var inline_js = [\n",
       "    function(Bokeh) {\n",
       "      Bokeh.set_log_level(\"info\");\n",
       "    },\n",
       "    \n",
       "    function(Bokeh) {\n",
       "      \n",
       "    },\n",
       "    function(Bokeh) {} // ensure no trailing comma for IE\n",
       "  ];\n",
       "\n",
       "  function run_inline_js() {\n",
       "    \n",
       "    if ((root.Bokeh !== undefined) || (force === true)) {\n",
       "      for (var i = 0; i < inline_js.length; i++) {\n",
       "        inline_js[i].call(root, root.Bokeh);\n",
       "      }if (force === true) {\n",
       "        display_loaded();\n",
       "      }} else if (Date.now() < root._bokeh_timeout) {\n",
       "      setTimeout(run_inline_js, 100);\n",
       "    } else if (!root._bokeh_failed_load) {\n",
       "      console.log(\"Bokeh: BokehJS failed to load within specified timeout.\");\n",
       "      root._bokeh_failed_load = true;\n",
       "    } else if (force !== true) {\n",
       "      var cell = $(document.getElementById(\"1001\")).parents('.cell').data().cell;\n",
       "      cell.output_area.append_execute_result(NB_LOAD_WARNING)\n",
       "    }\n",
       "\n",
       "  }\n",
       "\n",
       "  if (root._bokeh_is_loading === 0) {\n",
       "    console.debug(\"Bokeh: BokehJS loaded, going straight to plotting\");\n",
       "    run_inline_js();\n",
       "  } else {\n",
       "    load_libs(css_urls, js_urls, function() {\n",
       "      console.debug(\"Bokeh: BokehJS plotting callback run at\", now());\n",
       "      run_inline_js();\n",
       "    });\n",
       "  }\n",
       "}(window));"
      ],
      "application/vnd.bokehjs_load.v0+json": "\n(function(root) {\n  function now() {\n    return new Date();\n  }\n\n  var force = true;\n\n  if (typeof root._bokeh_onload_callbacks === \"undefined\" || force === true) {\n    root._bokeh_onload_callbacks = [];\n    root._bokeh_is_loading = undefined;\n  }\n\n  \n\n  \n  if (typeof (root._bokeh_timeout) === \"undefined\" || force === true) {\n    root._bokeh_timeout = Date.now() + 5000;\n    root._bokeh_failed_load = false;\n  }\n\n  var NB_LOAD_WARNING = {'data': {'text/html':\n     \"<div style='background-color: #fdd'>\\n\"+\n     \"<p>\\n\"+\n     \"BokehJS does not appear to have successfully loaded. If loading BokehJS from CDN, this \\n\"+\n     \"may be due to a slow or bad network connection. Possible fixes:\\n\"+\n     \"</p>\\n\"+\n     \"<ul>\\n\"+\n     \"<li>re-rerun `output_notebook()` to attempt to load from CDN again, or</li>\\n\"+\n     \"<li>use INLINE resources instead, as so:</li>\\n\"+\n     \"</ul>\\n\"+\n     \"<code>\\n\"+\n     \"from bokeh.resources import INLINE\\n\"+\n     \"output_notebook(resources=INLINE)\\n\"+\n     \"</code>\\n\"+\n     \"</div>\"}};\n\n  function display_loaded() {\n    var el = document.getElementById(\"1001\");\n    if (el != null) {\n      el.textContent = \"BokehJS is loading...\";\n    }\n    if (root.Bokeh !== undefined) {\n      if (el != null) {\n        el.textContent = \"BokehJS \" + root.Bokeh.version + \" successfully loaded.\";\n      }\n    } else if (Date.now() < root._bokeh_timeout) {\n      setTimeout(display_loaded, 100)\n    }\n  }\n\n\n  function run_callbacks() {\n    try {\n      root._bokeh_onload_callbacks.forEach(function(callback) {\n        if (callback != null)\n          callback();\n      });\n    } finally {\n      delete root._bokeh_onload_callbacks\n    }\n    console.debug(\"Bokeh: all callbacks have finished\");\n  }\n\n  function load_libs(css_urls, js_urls, callback) {\n    if (css_urls == null) css_urls = [];\n    if (js_urls == null) js_urls = [];\n\n    root._bokeh_onload_callbacks.push(callback);\n    if (root._bokeh_is_loading > 0) {\n      console.debug(\"Bokeh: BokehJS is being loaded, scheduling callback at\", now());\n      return null;\n    }\n    if (js_urls == null || js_urls.length === 0) {\n      run_callbacks();\n      return null;\n    }\n    console.debug(\"Bokeh: BokehJS not loaded, scheduling load and callback at\", now());\n    root._bokeh_is_loading = css_urls.length + js_urls.length;\n\n    function on_load() {\n      root._bokeh_is_loading--;\n      if (root._bokeh_is_loading === 0) {\n        console.debug(\"Bokeh: all BokehJS libraries/stylesheets loaded\");\n        run_callbacks()\n      }\n    }\n\n    function on_error() {\n      console.error(\"failed to load \" + url);\n    }\n\n    for (var i = 0; i < css_urls.length; i++) {\n      var url = css_urls[i];\n      const element = document.createElement(\"link\");\n      element.onload = on_load;\n      element.onerror = on_error;\n      element.rel = \"stylesheet\";\n      element.type = \"text/css\";\n      element.href = url;\n      console.debug(\"Bokeh: injecting link tag for BokehJS stylesheet: \", url);\n      document.body.appendChild(element);\n    }\n\n    for (var i = 0; i < js_urls.length; i++) {\n      var url = js_urls[i];\n      var element = document.createElement('script');\n      element.onload = on_load;\n      element.onerror = on_error;\n      element.async = false;\n      element.src = url;\n      console.debug(\"Bokeh: injecting script tag for BokehJS library: \", url);\n      document.head.appendChild(element);\n    }\n  };var element = document.getElementById(\"1001\");\n  if (element == null) {\n    console.error(\"Bokeh: ERROR: autoload.js configured with elementid '1001' but no matching script tag was found. \")\n    return false;\n  }\n\n  function inject_raw_css(css) {\n    const element = document.createElement(\"style\");\n    element.appendChild(document.createTextNode(css));\n    document.body.appendChild(element);\n  }\n\n  var js_urls = [\"https://cdn.pydata.org/bokeh/release/bokeh-1.3.4.min.js\", \"https://cdn.pydata.org/bokeh/release/bokeh-widgets-1.3.4.min.js\", \"https://cdn.pydata.org/bokeh/release/bokeh-tables-1.3.4.min.js\", \"https://cdn.pydata.org/bokeh/release/bokeh-gl-1.3.4.min.js\"];\n  var css_urls = [];\n\n  var inline_js = [\n    function(Bokeh) {\n      Bokeh.set_log_level(\"info\");\n    },\n    \n    function(Bokeh) {\n      \n    },\n    function(Bokeh) {} // ensure no trailing comma for IE\n  ];\n\n  function run_inline_js() {\n    \n    if ((root.Bokeh !== undefined) || (force === true)) {\n      for (var i = 0; i < inline_js.length; i++) {\n        inline_js[i].call(root, root.Bokeh);\n      }if (force === true) {\n        display_loaded();\n      }} else if (Date.now() < root._bokeh_timeout) {\n      setTimeout(run_inline_js, 100);\n    } else if (!root._bokeh_failed_load) {\n      console.log(\"Bokeh: BokehJS failed to load within specified timeout.\");\n      root._bokeh_failed_load = true;\n    } else if (force !== true) {\n      var cell = $(document.getElementById(\"1001\")).parents('.cell').data().cell;\n      cell.output_area.append_execute_result(NB_LOAD_WARNING)\n    }\n\n  }\n\n  if (root._bokeh_is_loading === 0) {\n    console.debug(\"Bokeh: BokehJS loaded, going straight to plotting\");\n    run_inline_js();\n  } else {\n    load_libs(css_urls, js_urls, function() {\n      console.debug(\"Bokeh: BokehJS plotting callback run at\", now());\n      run_inline_js();\n    });\n  }\n}(window));"
     },
     "metadata": {},
     "output_type": "display_data"
    }
   ],
   "source": [
    "import sys\n",
    "#if negi-stuff is not installed, add path to where you have this folder. \n",
    "#sys.path.append('negi-stuff/')\n",
    "\n",
    "import read_CMIP\n",
    "from negi_stuff.modules import make_folders\n",
    "import read_CMIP"
   ]
  },
  {
   "cell_type": "markdown",
   "metadata": {},
   "source": [
    "## Example with three models"
   ]
  },
  {
   "cell_type": "code",
   "execution_count": 2,
   "metadata": {},
   "outputs": [],
   "source": [
    "models = ['CESM2-WACCM','NorESM2-LM', 'UKESM1-0-LL']\n",
    "variables =['tas', 'ps', 'mmroa']\n",
    "experiment='historical'\n",
    "s_y = 1980\n",
    "e_y = 2014\n",
    "savedir_sliced = 'sliced_dt/'\n",
    "savedir_concoa = 'computed_fields/'\n",
    "# save time:\n",
    "mmroa= 'mmroa'\n",
    "tas = 'tas'\n",
    "ps = 'ps'\n",
    "concoa = 'concoa'\n",
    "#variables= ['mmroa']"
   ]
  },
  {
   "cell_type": "markdown",
   "metadata": {},
   "source": [
    "## Open and save the original data:\n",
    "The code below calls a function in 'read_CMIP.py' which reads and saves the data from year s_y to e_y and saves it in 'sliced_dt' folder. To calculate the air density we need surface temperature and surface pressure. In addition we want mmroa."
   ]
  },
  {
   "cell_type": "code",
   "execution_count": 3,
   "metadata": {},
   "outputs": [
    {
     "name": "stdout",
     "output_type": "stream",
     "text": [
      "CESM2-WACCM: Loading tas\n",
      "['/home/ab9880f9-2d7bc8-2d48c2-2d9223-2d693c1d3cf3c1/shared-cmip6-for-ns1000k/historical/CESM2-WACCM/r1i1p1f1/tas_Amon_CESM2-WACCM_historical_r1i1p1f1_gn_185001-201412.nc']\n"
     ]
    },
    {
     "name": "stderr",
     "output_type": "stream",
     "text": [
      "/opt/conda/lib/python3.7/site-packages/xarray/conventions.py:494: SerializationWarning: variable 'tas' has multiple fill values {1e+20, 1e+20}, decoding all values to NaN.\n",
      "  use_cftime=use_cftime,\n"
     ]
    },
    {
     "name": "stdout",
     "output_type": "stream",
     "text": [
      "CESM2-WACCM: Loading ps\n",
      "['/home/ab9880f9-2d7bc8-2d48c2-2d9223-2d693c1d3cf3c1/shared-cmip6-for-ns1000k/historical/CESM2-WACCM/r1i1p1f1/ps_AERmon_CESM2-WACCM_historical_r1i1p1f1_gn_185001-201412.nc']\n"
     ]
    },
    {
     "name": "stderr",
     "output_type": "stream",
     "text": [
      "/opt/conda/lib/python3.7/site-packages/xarray/conventions.py:494: SerializationWarning: variable 'ps' has multiple fill values {1e+20, 1e+20}, decoding all values to NaN.\n",
      "  use_cftime=use_cftime,\n"
     ]
    },
    {
     "name": "stdout",
     "output_type": "stream",
     "text": [
      "CESM2-WACCM: Loading mmroa\n",
      "['/home/ab9880f9-2d7bc8-2d48c2-2d9223-2d693c1d3cf3c1/shared-cmip6-for-ns1000k/historical/CESM2-WACCM/r1i1p1f1/mmroa_AERmon_CESM2-WACCM_historical_r1i1p1f1_gn_185001-201412.nc']\n"
     ]
    },
    {
     "name": "stderr",
     "output_type": "stream",
     "text": [
      "/opt/conda/lib/python3.7/site-packages/xarray/conventions.py:494: SerializationWarning: variable 'mmroa' has multiple fill values {1e+20, 1e+20}, decoding all values to NaN.\n",
      "  use_cftime=use_cftime,\n"
     ]
    },
    {
     "name": "stdout",
     "output_type": "stream",
     "text": [
      "NorESM2-LM: Loading tas\n",
      "['/home/ab9880f9-2d7bc8-2d48c2-2d9223-2d693c1d3cf3c1/shared-cmip6-for-ns1000k/historical/NorESM2-LM/r1i1p1f1/tas_Amon_NorESM2-LM_historical_r1i1p1f1_gn_198001-198912.nc', '/home/ab9880f9-2d7bc8-2d48c2-2d9223-2d693c1d3cf3c1/shared-cmip6-for-ns1000k/historical/NorESM2-LM/r1i1p1f1/tas_Amon_NorESM2-LM_historical_r1i1p1f1_gn_199001-199912.nc', '/home/ab9880f9-2d7bc8-2d48c2-2d9223-2d693c1d3cf3c1/shared-cmip6-for-ns1000k/historical/NorESM2-LM/r1i1p1f1/tas_Amon_NorESM2-LM_historical_r1i1p1f1_gn_200001-200912.nc', '/home/ab9880f9-2d7bc8-2d48c2-2d9223-2d693c1d3cf3c1/shared-cmip6-for-ns1000k/historical/NorESM2-LM/r1i1p1f1/tas_Amon_NorESM2-LM_historical_r1i1p1f1_gn_201001-201412.nc']\n"
     ]
    },
    {
     "name": "stderr",
     "output_type": "stream",
     "text": [
      "/opt/conda/lib/python3.7/site-packages/xarray/conventions.py:425: UserWarning: Variable 'time' has datetime type and a bounds variable but time.encoding does not have units specified. The units encodings for 'time' and 'time_bnds' will be determined independently and may not be equal, counter to CF-conventions. If this is a concern, specify a units encoding for 'time' before writing to a file.\n",
      "  UserWarning,\n"
     ]
    },
    {
     "name": "stdout",
     "output_type": "stream",
     "text": [
      "NorESM2-LM: Loading ps\n",
      "['/home/ab9880f9-2d7bc8-2d48c2-2d9223-2d693c1d3cf3c1/shared-cmip6-for-ns1000k/historical/NorESM2-LM/r1i1p1f1/ps_AERmon_NorESM2-LM_historical_r1i1p1f1_gn_198001-198912.nc', '/home/ab9880f9-2d7bc8-2d48c2-2d9223-2d693c1d3cf3c1/shared-cmip6-for-ns1000k/historical/NorESM2-LM/r1i1p1f1/ps_AERmon_NorESM2-LM_historical_r1i1p1f1_gn_199001-199912.nc', '/home/ab9880f9-2d7bc8-2d48c2-2d9223-2d693c1d3cf3c1/shared-cmip6-for-ns1000k/historical/NorESM2-LM/r1i1p1f1/ps_AERmon_NorESM2-LM_historical_r1i1p1f1_gn_200001-200912.nc', '/home/ab9880f9-2d7bc8-2d48c2-2d9223-2d693c1d3cf3c1/shared-cmip6-for-ns1000k/historical/NorESM2-LM/r1i1p1f1/ps_AERmon_NorESM2-LM_historical_r1i1p1f1_gn_201001-201412.nc']\n"
     ]
    },
    {
     "name": "stderr",
     "output_type": "stream",
     "text": [
      "/opt/conda/lib/python3.7/site-packages/xarray/conventions.py:425: UserWarning: Variable 'time' has datetime type and a bounds variable but time.encoding does not have units specified. The units encodings for 'time' and 'time_bnds' will be determined independently and may not be equal, counter to CF-conventions. If this is a concern, specify a units encoding for 'time' before writing to a file.\n",
      "  UserWarning,\n"
     ]
    },
    {
     "name": "stdout",
     "output_type": "stream",
     "text": [
      "NorESM2-LM: Loading mmroa\n",
      "['/home/ab9880f9-2d7bc8-2d48c2-2d9223-2d693c1d3cf3c1/shared-cmip6-for-ns1000k/historical/NorESM2-LM/r1i1p1f1/mmroa_AERmon_NorESM2-LM_historical_r1i1p1f1_gn_198001-198912.nc', '/home/ab9880f9-2d7bc8-2d48c2-2d9223-2d693c1d3cf3c1/shared-cmip6-for-ns1000k/historical/NorESM2-LM/r1i1p1f1/mmroa_AERmon_NorESM2-LM_historical_r1i1p1f1_gn_199001-199912.nc', '/home/ab9880f9-2d7bc8-2d48c2-2d9223-2d693c1d3cf3c1/shared-cmip6-for-ns1000k/historical/NorESM2-LM/r1i1p1f1/mmroa_AERmon_NorESM2-LM_historical_r1i1p1f1_gn_200001-200912.nc', '/home/ab9880f9-2d7bc8-2d48c2-2d9223-2d693c1d3cf3c1/shared-cmip6-for-ns1000k/historical/NorESM2-LM/r1i1p1f1/mmroa_AERmon_NorESM2-LM_historical_r1i1p1f1_gn_201001-201412.nc']\n"
     ]
    },
    {
     "name": "stderr",
     "output_type": "stream",
     "text": [
      "/opt/conda/lib/python3.7/site-packages/xarray/conventions.py:425: UserWarning: Variable 'time' has datetime type and a bounds variable but time.encoding does not have units specified. The units encodings for 'time' and 'time_bnds' will be determined independently and may not be equal, counter to CF-conventions. If this is a concern, specify a units encoding for 'time' before writing to a file.\n",
      "  UserWarning,\n"
     ]
    },
    {
     "name": "stdout",
     "output_type": "stream",
     "text": [
      "UKESM1-0-LL: Loading tas\n",
      "['/home/ab9880f9-2d7bc8-2d48c2-2d9223-2d693c1d3cf3c1/shared-cmip6-for-ns1000k/historical/UKESM1-0-LL/r1i1p1f2/tas_Amon_UKESM1-0-LL_historical_r1i1p1f2_gn_195001-201412.nc']\n",
      "UKESM1-0-LL: Loading ps\n",
      "['/home/ab9880f9-2d7bc8-2d48c2-2d9223-2d693c1d3cf3c1/shared-cmip6-for-ns1000k/historical/UKESM1-0-LL/r1i1p1f2/ps_AERmon_UKESM1-0-LL_historical_r1i1p1f2_gn_195001-201412.nc']\n",
      "UKESM1-0-LL: Loading mmroa\n",
      "['/home/ab9880f9-2d7bc8-2d48c2-2d9223-2d693c1d3cf3c1/shared-cmip6-for-ns1000k/historical/UKESM1-0-LL/r1i1p1f2/mmroa_AERmon_UKESM1-0-LL_historical_r1i1p1f2_gn_195001-199912.nc']\n"
     ]
    }
   ],
   "source": [
    "for model in models:\n",
    "    read_CMIP.load_model_y_save(model, \n",
    "                                    variables,\n",
    "                                    s_y, e_y,experiment=experiment,\n",
    "                                   outdir=savedir_sliced, bottom_lev=True)\n",
    "    "
   ]
  },
  {
   "cell_type": "markdown",
   "metadata": {},
   "source": [
    "## Create concoa:\n",
    "The box below calls functions in 'read_CMIP.py' that calculates concoa from mmroa. "
   ]
  },
  {
   "cell_type": "code",
   "execution_count": 4,
   "metadata": {},
   "outputs": [],
   "source": [
    "import xarray as xr\n",
    "#tas_path = '/home/notebook/shared-cmip6-for-ns1000k/historical/NorESM2-LM/r1i1p1f1/tas_Amon_NorESM2-LM_historical_r1i1p1f1_gn_201001-201412.nc'\n",
    "def convert_mmroa_to_concoa_surface(ds_mmr, ds_tas, ds_ps, name='oa'):\n",
    "    \"\"\"\n",
    "    ds_mmr : mmr dataset\n",
    "    ds_tas : surface temperature ds\n",
    "    ds_ps  : surface pressure dataset\n",
    "    name   : constituent name (e.g. oa, so4, etc)\n",
    "    return : dataset with variable conc<name> in units of ug m-3\n",
    "    \"\"\"\n",
    "    conc_name = 'conc'+name\n",
    "    mmroa = 'mmr'+name\n",
    "    R = 287.058\n",
    "    kg2ug = 1e3*1e6\n",
    "    ds_mmr['rho_a'] = ds_ps['ps']/(R*ds_tas['tas'])\n",
    "    ds_mmr[conc_name] = ds_mmr[mmroa]*ds_mmr['rho_a']*kg2ug\n",
    "    ds_mmr[conc_name].attrs['units']='ug m-3'\n",
    "    return ds_mmr\n",
    "def convert_mmroa2concoa_surf_and_save(ds_mmr, ds_tas, ds_ps, savepath, name='oa'):\n",
    "    ds = convert_mmroa_to_concoa_surface(ds_mmr, ds_tas, ds_ps, name=name)\n",
    "    make_folders.make_folders(savepath)\n",
    "    ds.to_netcdf(savepath)\n",
    "    ds.close()\n"
   ]
  },
  {
   "cell_type": "code",
   "execution_count": 5,
   "metadata": {},
   "outputs": [
    {
     "name": "stdout",
     "output_type": "stream",
     "text": [
      "sliced_dt/CESM2-WACCM/mmroa_CESM2-WACCM_historical_*_1980_2014**.nc\n",
      "sliced_dt/CESM2-WACCM/tas_CESM2-WACCM_historical_*_1980_2014**.nc\n",
      "sliced_dt/CESM2-WACCM/ps_CESM2-WACCM_historical_*_1980_2014**.nc\n",
      "sliced_dt/NorESM2-LM/mmroa_NorESM2-LM_historical_*_1980_2014**.nc\n",
      "sliced_dt/NorESM2-LM/tas_NorESM2-LM_historical_*_1980_2014**.nc\n",
      "sliced_dt/NorESM2-LM/ps_NorESM2-LM_historical_*_1980_2014**.nc\n",
      "sliced_dt/UKESM1-0-LL/mmroa_UKESM1-0-LL_historical_*_1980_2014**.nc\n",
      "sliced_dt/UKESM1-0-LL/tas_UKESM1-0-LL_historical_*_1980_2014**.nc\n",
      "sliced_dt/UKESM1-0-LL/ps_UKESM1-0-LL_historical_*_1980_2014**.nc\n"
     ]
    }
   ],
   "source": [
    "for model in models:\n",
    "    # open necessary variables:\n",
    "    path =read_CMIP.get_fn_real_wildcard(savedir_sliced, model, mmroa, s_y, e_y, experiment, lev='*')#, realisation='*')\n",
    "    #path = savedir_sliced + read_CMIP.calc_filen(model, mmroa, s_y, e_y, experiment, lev=0)#, realisation='*')\n",
    "    ds_mmroa =  xr.open_dataset(path)\n",
    "    path =read_CMIP.get_fn_real_wildcard(savedir_sliced, model, tas, s_y, e_y, experiment, lev='*')#, realisation='*')\n",
    "    #path = savedir_sliced + read_CMIP.calc_filen(model, tas, s_y, e_y, experiment, lev=0)\n",
    "    ds_tas =  xr.open_dataset(path)\n",
    "    path =read_CMIP.get_fn_real_wildcard(savedir_sliced, model, ps, s_y, e_y, experiment, lev='*')#, realisation='*')\n",
    "    #path = savedir_sliced + read_CMIP.calc_filen(model, ps, s_y, e_y, experiment, lev=0)\n",
    "    ds_ps =  xr.open_dataset(path)\n",
    "    savepath = savedir_concoa + read_CMIP.calc_filen(model, concoa, s_y, e_y, experiment)\n",
    "    make_folders.make_folders(savepath)\n",
    "    convert_mmroa2concoa_surf_and_save(ds_mmroa, ds_tas, ds_ps, savepath, name='oa')\n",
    "    "
   ]
  },
  {
   "cell_type": "code",
   "execution_count": 22,
   "metadata": {},
   "outputs": [
    {
     "data": {
      "text/plain": [
       "<xarray.DataArray 'lev' (lev: 85)>\n",
       "array([2.000000e+01, 5.333334e+01, 1.000000e+02, 1.600000e+02, 2.333333e+02,\n",
       "       3.200000e+02, 4.200000e+02, 5.333334e+02, 6.599999e+02, 7.999999e+02,\n",
       "       9.533337e+02, 1.120000e+03, 1.300000e+03, 1.493333e+03, 1.700000e+03,\n",
       "       1.920000e+03, 2.153333e+03, 2.400000e+03, 2.659999e+03, 2.933333e+03,\n",
       "       3.220000e+03, 3.520000e+03, 3.833333e+03, 4.160000e+03, 4.500000e+03,\n",
       "       4.853333e+03, 5.220000e+03, 5.600000e+03, 5.993333e+03, 6.400000e+03,\n",
       "       6.820000e+03, 7.253333e+03, 7.700000e+03, 8.160001e+03, 8.633340e+03,\n",
       "       9.120007e+03, 9.620020e+03, 1.013337e+04, 1.066008e+04, 1.120016e+04,\n",
       "       1.175364e+04, 1.232055e+04, 1.290093e+04, 1.349488e+04, 1.410248e+04,\n",
       "       1.472388e+04, 1.535924e+04, 1.600882e+04, 1.667290e+04, 1.735190e+04,\n",
       "       1.804629e+04, 1.875670e+04, 1.948389e+04, 2.022878e+04, 2.099253e+04,\n",
       "       2.177651e+04, 2.258239e+04, 2.341216e+04, 2.426818e+04, 2.515322e+04,\n",
       "       2.607059e+04, 2.702411e+04, 2.801826e+04, 2.905823e+04, 3.015002e+04,\n",
       "       3.130054e+04, 3.251771e+04, 3.381059e+04, 3.518952e+04, 3.666624e+04,\n",
       "       3.825403e+04, 3.996793e+04, 4.182485e+04, 4.384383e+04, 4.604621e+04,\n",
       "       4.845583e+04, 5.109935e+04, 5.400643e+04, 5.721002e+04, 6.074670e+04,\n",
       "       6.465696e+04, 6.898552e+04, 7.378177e+04, 7.910002e+04, 8.500000e+04])\n",
       "Coordinates:\n",
       "  * lev      (lev) float64 20.0 53.33 100.0 160.0 ... 7.378e+04 7.91e+04 8.5e+04\n",
       "Attributes:\n",
       "    bounds:         lev_bnds\n",
       "    units:          m\n",
       "    axis:           Z\n",
       "    positive:       up\n",
       "    long_name:      hybrid height coordinate\n",
       "    standard_name:  atmosphere_hybrid_height_coordinate\n",
       "    formula:        z = a + b*orog\n",
       "    formula_terms:  a: lev b: b orog: orog"
      ]
     },
     "execution_count": 22,
     "metadata": {},
     "output_type": "execute_result"
    }
   ],
   "source": [
    "a = xr.open_dataset('/home/ab9880f9-2d7bc8-2d48c2-2d9223-2d693c1d3cf3c1/shared-cmip6-for-ns1000k/historical/UKESM1-0-LL/r1i1p1f2/mmrbc_AERmon_UKESM1-0-LL_historical_r1i1p1f2_gn_185001-189912.nc')\n",
    "a['lev']"
   ]
  },
  {
   "cell_type": "code",
   "execution_count": 22,
   "metadata": {},
   "outputs": [
    {
     "data": {
      "text/plain": [
       "<xarray.DataArray 'lev' (lev: 85)>\n",
       "array([2.000000e+01, 5.333334e+01, 1.000000e+02, 1.600000e+02, 2.333333e+02,\n",
       "       3.200000e+02, 4.200000e+02, 5.333334e+02, 6.599999e+02, 7.999999e+02,\n",
       "       9.533337e+02, 1.120000e+03, 1.300000e+03, 1.493333e+03, 1.700000e+03,\n",
       "       1.920000e+03, 2.153333e+03, 2.400000e+03, 2.659999e+03, 2.933333e+03,\n",
       "       3.220000e+03, 3.520000e+03, 3.833333e+03, 4.160000e+03, 4.500000e+03,\n",
       "       4.853333e+03, 5.220000e+03, 5.600000e+03, 5.993333e+03, 6.400000e+03,\n",
       "       6.820000e+03, 7.253333e+03, 7.700000e+03, 8.160001e+03, 8.633340e+03,\n",
       "       9.120007e+03, 9.620020e+03, 1.013337e+04, 1.066008e+04, 1.120016e+04,\n",
       "       1.175364e+04, 1.232055e+04, 1.290093e+04, 1.349488e+04, 1.410248e+04,\n",
       "       1.472388e+04, 1.535924e+04, 1.600882e+04, 1.667290e+04, 1.735190e+04,\n",
       "       1.804629e+04, 1.875670e+04, 1.948389e+04, 2.022878e+04, 2.099253e+04,\n",
       "       2.177651e+04, 2.258239e+04, 2.341216e+04, 2.426818e+04, 2.515322e+04,\n",
       "       2.607059e+04, 2.702411e+04, 2.801826e+04, 2.905823e+04, 3.015002e+04,\n",
       "       3.130054e+04, 3.251771e+04, 3.381059e+04, 3.518952e+04, 3.666624e+04,\n",
       "       3.825403e+04, 3.996793e+04, 4.182485e+04, 4.384383e+04, 4.604621e+04,\n",
       "       4.845583e+04, 5.109935e+04, 5.400643e+04, 5.721002e+04, 6.074670e+04,\n",
       "       6.465696e+04, 6.898552e+04, 7.378177e+04, 7.910002e+04, 8.500000e+04])\n",
       "Coordinates:\n",
       "  * lev      (lev) float64 20.0 53.33 100.0 160.0 ... 7.378e+04 7.91e+04 8.5e+04\n",
       "Attributes:\n",
       "    bounds:         lev_bnds\n",
       "    units:          m\n",
       "    axis:           Z\n",
       "    positive:       up\n",
       "    long_name:      hybrid height coordinate\n",
       "    standard_name:  atmosphere_hybrid_height_coordinate\n",
       "    formula:        z = a + b*orog\n",
       "    formula_terms:  a: lev b: b orog: orog"
      ]
     },
     "execution_count": 22,
     "metadata": {},
     "output_type": "execute_result"
    }
   ],
   "source": [
    "a = xr.open_dataset('/home/ab9880f9-2d7bc8-2d48c2-2d9223-2d693c1d3cf3c1/shared-cmip6-for-ns1000k/historical/UKESM1-0-LL/r1i1p1f2/')\n",
    "a['lev']"
   ]
  }
 ],
 "metadata": {
  "kernelspec": {
   "display_name": "Python 3",
   "language": "python",
   "name": "python3"
  },
  "language_info": {
   "codemirror_mode": {
    "name": "ipython",
    "version": 3
   },
   "file_extension": ".py",
   "mimetype": "text/x-python",
   "name": "python",
   "nbconvert_exporter": "python",
   "pygments_lexer": "ipython3",
   "version": "3.7.3"
  }
 },
 "nbformat": 4,
 "nbformat_minor": 4
}
