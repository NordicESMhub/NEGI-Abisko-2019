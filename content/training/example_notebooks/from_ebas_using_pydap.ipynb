{
 "cells": [
  {
   "cell_type": "code",
   "execution_count": 18,
   "metadata": {},
   "outputs": [],
   "source": [
    "# get from package\n",
    "from pydap.client import open_dods, open_url\n",
    "from netCDF4 import num2date\n",
    "import pandas as pd"
   ]
  },
  {
   "cell_type": "code",
   "execution_count": 2,
   "metadata": {},
   "outputs": [],
   "source": [
    "# get directly from EBAS\n",
    "ds = open_dods(\n",
    "'http://dev-ebas-pydap.nilu.no/' \n",
    "'NO0042G.dmps.IMG.aerosol.particle_number_size_distribution'\n",
    "'.1h.NO01L_NILU_DMPSmodel2_ZEP.NO01L_dmps_DMPS_ZEP01.2.dods')\n",
    "\n",
    "# syntax: ST_STATION_CODE.FT_TYPE.RE_REGIME_CODE.MA_MATRIX_NAME.CO_COMP_NAME.DS_RESCODE.FI_REF.ME_REF.DL_DATA_LEVEL.dods\n",
    "# or: #station.instrument_type.IMG.matrix.component.resolution.instrument_reference.datalevel.dods\n",
    "# if no level, then '..dods'\n",
    "# if doen't work, download one file to check what are the FI_REF and ME_REF.\n",
    "# other example: 'http://dev-ebas-pydap.nilu.no/NO0042G.Hg_mon.IMG.air.mercury.1h.NO01L_tekran_42_dup.NO01L_afs..dods'"
   ]
  },
  {
   "cell_type": "code",
   "execution_count": 21,
   "metadata": {},
   "outputs": [],
   "source": [
    "#get the actual data\n",
    "dmps_data = ds['particle_number_size_distribution_amean']\n",
    "\n",
    "# get normalised size distribution in dNdlogDp\n",
    "dNdlogDp= dmps_data.particle_number_size_distribution_amean.data\n",
    "\n",
    "# get time in datatime format using function from netCDF4 package\n",
    "tim_dmps = num2date(dmps_data.time.data,units='days since 1900-01-01 00:00:00',\n",
    "calendar='gregorian')\n",
    "\n",
    "# get diameter vector\n",
    "dp_NILU = dmps_data.D.data\n",
    "\n",
    "# make DataFrame to simplify the handling of data\n",
    "df_NILU = pd.DataFrame(dNdlogDp,index=dp_NILU,columns=tim_dmps)"
   ]
  }
 ],
 "metadata": {
  "kernelspec": {
   "display_name": "Python 3",
   "language": "python",
   "name": "python3"
  },
  "language_info": {
   "codemirror_mode": {
    "name": "ipython",
    "version": 3
   },
   "file_extension": ".py",
   "mimetype": "text/x-python",
   "name": "python",
   "nbconvert_exporter": "python",
   "pygments_lexer": "ipython3",
   "version": "3.7.3"
  }
 },
 "nbformat": 4,
 "nbformat_minor": 4
}
