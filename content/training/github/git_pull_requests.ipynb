{
 "cells": [
  {
   "cell_type": "markdown",
   "metadata": {},
   "source": [
    "# How to make pull requests (the _easy_ way)\n",
    "## Set-up git on Jupyter hub and link your fork:\n",
    "1. visit [https://github.com/NordicESMhub/NEGI-Abisko-2019](https://github.com/NordicESMhub/NEGI-Abisko-2019)\n",
    "  - fork the _master_ branch to your github account\n",
    "  - https://github.com/USERNAME/NordicESMhub/NEGI-Abisko-2019\n",
    "     \n",
    "  <img src=\"https://help.github.com/assets/images/help/repository/fork_button.jpg\" width=\"50%\"/>\n",
    "2. go to [Jupyterhub](https://abisko.uiogeo-apps.sigma2.no/hub/login)\n",
    "  - open terminal \n",
    "  \n",
    "  <img src=\"https://miro.medium.com/max/1019/1*xo8LGAaxdBCKFQVFb8ZQ3g.png\" width=\"50%\" />\n",
    "  \n",
    "  - set up your github account with your USERNAME"
   ]
  },
  {
   "cell_type": "raw",
   "metadata": {},
   "source": [
    "$ git config --global user.name \"USERNAME\""
   ]
  },
  {
   "cell_type": "markdown",
   "metadata": {},
   "source": [
    "3. clone fork from your **Github** account https://github.com/USERNAME/NEGI-Abisko-2019"
   ]
  },
  {
   "cell_type": "raw",
   "metadata": {},
   "source": [
    "$ git clone https://github.com/USERNAME/NEGI-Abisko-2019.git NEGI-Abisko-2019-fork"
   ]
  },
  {
   "cell_type": "markdown",
   "metadata": {},
   "source": [
    "4. change to your fork on Jupyter hub"
   ]
  },
  {
   "cell_type": "raw",
   "metadata": {},
   "source": [
    "$ cd NEGI-Abisko-2019-fork"
   ]
  },
  {
   "cell_type": "markdown",
   "metadata": {},
   "source": [
    "5. Link your fork (=https://github.com/USERNAME/NEGI-Abisko-2019-fork) to NordicESMHub repository (=https://github.com/NordicESMHub/NEGI-Abisko-2019.git)"
   ]
  },
  {
   "cell_type": "raw",
   "metadata": {},
   "source": [
    "$ git remote add upstream https://github.com/NordicESMHub/NEGI-Abisko-2019.git"
   ]
  },
  {
   "cell_type": "markdown",
   "metadata": {},
   "source": []
  },
  {
   "cell_type": "markdown",
   "metadata": {},
   "source": [
    "# Steps to do **everytime** you want to push your file to https://github.com/NordicESMhub/NEGI-Abisko-2019"
   ]
  },
  {
   "cell_type": "markdown",
   "metadata": {},
   "source": [
    "#### 6. update your fork (=https://github.com/USERNAME/NEGI-Abisko-2019-fork) and push to NEGI-Abisko-2019 master (=https://github.com/NordicESMhub/NEGI-Abisko-2019)"
   ]
  },
  {
   "cell_type": "raw",
   "metadata": {},
   "source": [
    "$ cd NEGI-Abisko-2019-fork\n",
    "\n",
    "$ git pull upstream master"
   ]
  },
  {
   "cell_type": "markdown",
   "metadata": {},
   "source": [
    "6.1 side note: you might encounter a merge conflict. $\\rightarrow$ a window will pop up (it's blue). \n",
    "- **F10** $\\rightarrow$ hop into **File**\n",
    "  - choose **Save**\n",
    "- **F10** again\n",
    "  - choose **Exit**"
   ]
  },
  {
   "cell_type": "raw",
   "metadata": {},
   "source": [
    "$ git checkout -b NEWBRANCHNAME\n",
    "\n",
    "$ git add content/topics/group-2/USERNAME_filename.ipynb\n",
    "\n",
    "$ git commit -m 'describtive text about the changes/adjustments you made to USERNAME_filename.ipynb'\n",
    "\n",
    "$ git push -u origin NEWBRANCHNAME"
   ]
  },
  {
   "cell_type": "markdown",
   "metadata": {},
   "source": [
    "#### 7. visit your github fork: https://USERNAME/NEGI-Abisko-2019\n",
    "  - create pull request\n",
    "  \n",
    "  <img src = \"https://guides.github.com/activities/hello-world/create-pr.png\" width=\"50%\" />"
   ]
  },
  {
   "cell_type": "markdown",
   "metadata": {},
   "source": [
    "#### 8. go back to the **jupyter hub** terminal you should still be in"
   ]
  },
  {
   "cell_type": "raw",
   "metadata": {},
   "source": [
    ":~/NEGI-Abisko-2019-fork$"
   ]
  },
  {
   "cell_type": "markdown",
   "metadata": {},
   "source": [
    "#### 9. update master branch"
   ]
  },
  {
   "cell_type": "raw",
   "metadata": {},
   "source": [
    "$ git checkout master\n",
    "\n",
    "$ git pull upstream master\n",
    "\n",
    "$ git push origin master"
   ]
  },
  {
   "cell_type": "markdown",
   "metadata": {},
   "source": [
    "Note: repeat steps 8. to 9. everytime you want to contribute to https://github.com/NordicESMhub/NEGI-Abisko-2019"
   ]
  },
  {
   "cell_type": "code",
   "execution_count": null,
   "metadata": {},
   "outputs": [],
   "source": []
  }
 ],
 "metadata": {
  "kernelspec": {
   "display_name": "Python 3",
   "language": "python",
   "name": "python3"
  },
  "language_info": {
   "codemirror_mode": {
    "name": "ipython",
    "version": 3
   },
   "file_extension": ".py",
   "mimetype": "text/x-python",
   "name": "python",
   "nbconvert_exporter": "python",
   "pygments_lexer": "ipython3",
   "version": "3.7.3"
  }
 },
 "nbformat": 4,
 "nbformat_minor": 4
}
